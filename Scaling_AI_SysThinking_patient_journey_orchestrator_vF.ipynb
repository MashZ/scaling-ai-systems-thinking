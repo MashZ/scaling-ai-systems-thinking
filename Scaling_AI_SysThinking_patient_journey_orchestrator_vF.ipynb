{
 "cells": [
  {
   "cell_type": "markdown",
   "id": "59fc3f36",
   "metadata": {
    "id": "59fc3f36"
   },
   "source": [
    "**Healthcare Demo: \"Patient Journey Orchestrator for Chronic Care Management\"**"
   ]
  },
  {
   "cell_type": "markdown",
   "id": "0825926a",
   "metadata": {
    "id": "0825926a"
   },
   "source": [
    "**Architectural Simplicity**: Don't agent everything (1 min demo of when NOT to use agents)\n",
    "\n",
    "**Code Demo** Healthcare demo with three acts:\n",
    "<ul>\n",
    "Act 1: The wrong way (complex agents for simple task) <br>\n",
    "Act 2: The right way (simple → complex escalation) <br>\n",
    "Act 3: The learning system (show real improvement over iterations) "
   ]
  },
  {
   "cell_type": "markdown",
   "id": "9f7abf48",
   "metadata": {
    "id": "9f7abf48"
   },
   "source": [
    "### **Act 1: The wrong way** (complex agents for simple task)"
   ]
  },
  {
   "cell_type": "code",
   "execution_count": 1,
   "id": "d35cce2a",
   "metadata": {
    "id": "d35cce2a",
    "outputId": "8b27e3f9-d60d-4869-8790-cc403b0b4317"
   },
   "outputs": [
    {
     "name": "stdout",
     "output_type": "stream",
     "text": [
      "✅ Required packages imported successfully\n",
      "Note: Make sure to install required packages if running for the first time:\n",
      "pip install pandas openai python-dotenv plotly jupyter numpy\n",
      "pip install git+https://github.com/openai/swarm.git\n"
     ]
    }
   ],
   "source": [
    "# Install required packages\n",
    "# ! pip install pandas openai python-dotenv plotly jupyter numpy\n",
    "# ! pip install git+https://github.com/openai/swarm.git\n",
    "\n",
    "# Import required modules\n",
    "import warnings\n",
    "warnings.filterwarnings('ignore')\n",
    "\n",
    "print(\"✅ Required packages imported successfully\")\n",
    "print(\"Note: Make sure to install required packages if running for the first time:\")\n",
    "print(\"pip install pandas openai python-dotenv plotly jupyter numpy\")\n",
    "print(\"pip install git+https://github.com/openai/swarm.git\")"
   ]
  },
  {
   "cell_type": "code",
   "execution_count": 2,
   "id": "9a2b2f00",
   "metadata": {
    "id": "9a2b2f00",
    "outputId": "0c315a36-03de-40f2-80d0-15d4138f918c"
   },
   "outputs": [
    {
     "name": "stdout",
     "output_type": "stream",
     "text": [
      "✅ OpenAI client initialized successfully\n"
     ]
    }
   ],
   "source": [
    "import os\n",
    "from dotenv import load_dotenv\n",
    "from openai import OpenAI\n",
    "\n",
    "# Load environment variables from the .env file\n",
    "load_dotenv()\n",
    "api_key = os.environ.get(\"OPENAI_API_KEY\")\n",
    "\n",
    "if api_key is None:\n",
    "    print(\"Error: OPENAI_API_KEY environment variable not set.\")\n",
    "else:\n",
    "    # Initialize the OpenAI client\n",
    "    client = OpenAI(api_key=api_key)\n",
    "    print(\"✅ OpenAI client initialized successfully\")"
   ]
  },
  {
   "cell_type": "code",
   "execution_count": 3,
   "id": "270f952a",
   "metadata": {
    "id": "270f952a",
    "outputId": "f089b994-3878-43ae-8a77-3699554e7614"
   },
   "outputs": [
    {
     "name": "stdout",
     "output_type": "stream",
     "text": [
      "✅ Swarm client initialized successfully\n"
     ]
    }
   ],
   "source": [
    "# OpenAI Swarm for lightweight orchestration\n",
    "from swarm import Agent, Swarm\n",
    "\n",
    "# Initialize Swarm client with our existing OpenAI client\n",
    "swarm_client = Swarm(client=client)\n",
    "print(\"✅ Swarm client initialized successfully\")"
   ]
  },
  {
   "cell_type": "code",
   "execution_count": 4,
   "id": "425763c8",
   "metadata": {
    "id": "425763c8",
    "outputId": "0a7e538c-7935-41ed-ded4-64d2ba91ba47"
   },
   "outputs": [
    {
     "name": "stdout",
     "output_type": "stream",
     "text": [
      "✅ All healthcare agents created successfully\n",
      "Agents: ['Care Coordinator', 'Benefits Navigator', 'Health Coach', 'Clinical Analyst']\n"
     ]
    }
   ],
   "source": [
    "# Multi-agent system for patient journey optimization\n",
    "care_coordinator = Agent(\n",
    "    name=\"Care Coordinator\",\n",
    "    instructions=\"Coordinate between providers and ensure care continuity for patients\"\n",
    ")\n",
    "\n",
    "benefits_navigator = Agent(\n",
    "    name=\"Benefits Navigator\",\n",
    "    instructions=\"Optimize insurance coverage and identify cost-saving opportunities\"\n",
    ")\n",
    "\n",
    "health_coach = Agent(\n",
    "    name=\"Health Coach\",\n",
    "    instructions=\"Personalize patient engagement strategies and improve adherence\"\n",
    ")\n",
    "\n",
    "clinical_analyst = Agent(\n",
    "    name=\"Clinical Analyst\",\n",
    "    instructions=\"Identify care gaps and clinical risks using evidence-based guidelines\"\n",
    ")\n",
    "\n",
    "print(\"✅ All healthcare agents created successfully\")\n",
    "print(f\"Agents: {[agent.name for agent in [care_coordinator, benefits_navigator, health_coach, clinical_analyst]]}\")"
   ]
  },
  {
   "cell_type": "markdown",
   "id": "0879c21c",
   "metadata": {
    "id": "0879c21c"
   },
   "source": [
    "### Key Takeaways from this toy example\n",
    "\n",
    "1. **Start Simple**: Show when NOT to use agents (architectural simplicity)\n",
    "2. **Build Complexity**: Demonstrate where multi-agent truly adds value\n",
    "3. **Show Feedback**: Visualize learning loops improving over time\n",
    "4. **Quantify Impact**: \"3 people + this system = work of 30-person team\"\n",
    "5. **Productive Tensions**: Show how agent disagreements lead to better outcomes"
   ]
  },
  {
   "cell_type": "markdown",
   "id": "9cc01a34",
   "metadata": {
    "id": "9cc01a34"
   },
   "source": [
    "### **Core Workflow: Diabetes Patient Journey Optimization**"
   ]
  },
  {
   "cell_type": "code",
   "execution_count": 5,
   "id": "1ee5c174",
   "metadata": {
    "id": "1ee5c174"
   },
   "outputs": [],
   "source": [
    "# The system orchestrates:\n",
    "# 1. Risk stratification across patient populations\n",
    "# 2. Care gap identification and intervention\n",
    "# 3. Benefits optimization and prior authorization\n",
    "# 4. Provider network coordination\n",
    "# 5. Patient engagement and adherence"
   ]
  },
  {
   "cell_type": "markdown",
   "id": "9723e0c7",
   "metadata": {
    "id": "9723e0c7"
   },
   "source": [
    "### **Required Datasets for Full Working Demo**\n",
    "1. Synthetic Patient Data"
   ]
  },
  {
   "cell_type": "code",
   "execution_count": 6,
   "id": "d703afc3",
   "metadata": {
    "id": "d703afc3"
   },
   "outputs": [],
   "source": [
    "# Option A: Synthea (Synthetic Patient Population Simulator)\n",
    "# https://synthea.mitre.org/\n",
    "# - Download pre-generated datasets or generate custom populations\n",
    "# - Includes complete medical histories, medications, conditions\n",
    "# Example: synthea_sample_data_fhir_latest.zip (1GB)\n",
    "\n",
    "# Option B: CMS 2008-2010 Data Entrepreneurs' Synthetic PUF\n",
    "# https://www.cms.gov/data-research/statistics-trends-and-reports/medicare-claims-synthetic-public-use-files/cms-2008-2010-data-entrepreneurs-synthetic-public-use-file-de-synpuf\n",
    "# - 2.3M synthetic Medicare beneficiaries\n",
    "# - Claims, prescriptions, provider data"
   ]
  },
  {
   "cell_type": "markdown",
   "id": "1d6db758",
   "metadata": {
    "id": "1d6db758"
   },
   "source": [
    "2. Clinical Guidelines & Pathways"
   ]
  },
  {
   "cell_type": "code",
   "execution_count": 7,
   "id": "96459c64",
   "metadata": {
    "id": "96459c64"
   },
   "outputs": [],
   "source": [
    "# AHRQ Clinical Guidelines Database\n",
    "# https://www.ahrq.gov/gam/index.html\n",
    "# Download: Diabetes care guidelines, hypertension protocols\n",
    "\n",
    "# CDC Diabetes Prevention Program datasets\n",
    "# https://www.cdc.gov/diabetes/data/\n",
    "# - HbA1c targets, screening intervals, complication risks\n",
    "\n",
    "# NICE Pathways (UK) - downloadable clinical pathways\n",
    "# https://pathways.nice.org.uk/"
   ]
  },
  {
   "cell_type": "markdown",
   "id": "69e3959a",
   "metadata": {
    "id": "69e3959a"
   },
   "source": [
    "3. Provider Network Data"
   ]
  },
  {
   "cell_type": "code",
   "execution_count": 8,
   "id": "ca897eac",
   "metadata": {
    "id": "ca897eac"
   },
   "outputs": [],
   "source": [
    "# CMS Provider Data Catalog\n",
    "# https://data.cms.gov/provider-data/\n",
    "# - Download: Physician Compare, Hospital Compare datasets\n",
    "# - Includes quality scores, specialties, locations\n",
    "\n",
    "# NPPES NPI Registry\n",
    "# https://download.cms.gov/nppes/NPI_Files.html\n",
    "# - All US healthcare providers with NPIs\n",
    "# - Specialties, locations, taxonomy codes"
   ]
  },
  {
   "cell_type": "markdown",
   "id": "5eb8d23f",
   "metadata": {
    "id": "5eb8d23f"
   },
   "source": [
    "4. Insurance/Benefits Data"
   ]
  },
  {
   "cell_type": "code",
   "execution_count": 9,
   "id": "dd23376a",
   "metadata": {
    "id": "dd23376a"
   },
   "outputs": [],
   "source": [
    "# Healthcare.gov Plan Data\n",
    "# https://data.healthcare.gov/\n",
    "# - Download: QHP (Qualified Health Plan) landscape files\n",
    "# - Benefits, formularies, network adequacy\n",
    "\n",
    "# Medicare Part D Prescriber Data\n",
    "# https://data.cms.gov/provider-summary-by-type-of-service/medicare-part-d-prescribers"
   ]
  },
  {
   "cell_type": "markdown",
   "id": "bd62db0f",
   "metadata": {
    "id": "bd62db0f"
   },
   "source": [
    "5. Social Determinants of Health (SDOH)"
   ]
  },
  {
   "cell_type": "code",
   "execution_count": 10,
   "id": "50d283bd",
   "metadata": {
    "id": "50d283bd"
   },
   "outputs": [],
   "source": [
    "# CDC Social Vulnerability Index\n",
    "# https://www.atsdr.cdc.gov/placeandhealth/svi/data_documentation_download.html\n",
    "# - ZIP code level social vulnerability\n",
    "\n",
    "# USDA Food Access Research Atlas\n",
    "# https://www.ers.usda.gov/data-products/food-access-research-atlas/download-the-data/\n",
    "# - Food desert identification\n",
    "\n",
    "# AHRQ SDOH Database\n",
    "# https://www.ahrq.gov/sdoh/data-analytics/sdoh-data.html"
   ]
  },
  {
   "cell_type": "markdown",
   "id": "e89be289",
   "metadata": {
    "id": "e89be289"
   },
   "source": [
    "6. Quality Metrics & Outcomes"
   ]
  },
  {
   "cell_type": "code",
   "execution_count": 11,
   "id": "f80d1762",
   "metadata": {
    "id": "f80d1762"
   },
   "outputs": [],
   "source": [
    "# HEDIS Measures (sample specifications)\n",
    "# https://www.ncqa.org/hedis/measures/\n",
    "# - Diabetes care quality metrics\n",
    "\n",
    "# CMS Stars Ratings Data\n",
    "# https://data.cms.gov/provider-data/dataset/97z8-de96"
   ]
  },
  {
   "cell_type": "markdown",
   "id": "8470eaf8",
   "metadata": {
    "id": "8470eaf8"
   },
   "source": [
    "### Data Preparation Script"
   ]
  },
  {
   "cell_type": "code",
   "execution_count": 12,
   "id": "9ef344cc",
   "metadata": {
    "id": "9ef344cc",
    "outputId": "ac28e21d-95ce-477e-cd8f-a727fb68d470"
   },
   "outputs": [
    {
     "name": "stdout",
     "output_type": "stream",
     "text": [
      "✅ Synthetic healthcare dataset ready\n",
      "Patients: 120 | High or critical risk: 57\n"
     ]
    },
    {
     "data": {
      "text/html": [
       "<div>\n",
       "<style scoped>\n",
       "    .dataframe tbody tr th:only-of-type {\n",
       "        vertical-align: middle;\n",
       "    }\n",
       "\n",
       "    .dataframe tbody tr th {\n",
       "        vertical-align: top;\n",
       "    }\n",
       "\n",
       "    .dataframe thead th {\n",
       "        text-align: right;\n",
       "    }\n",
       "</style>\n",
       "<table border=\"1\" class=\"dataframe\">\n",
       "  <thead>\n",
       "    <tr style=\"text-align: right;\">\n",
       "      <th></th>\n",
       "      <th>patient_id</th>\n",
       "      <th>age</th>\n",
       "      <th>gender</th>\n",
       "      <th>diabetes_type</th>\n",
       "      <th>a1c_latest</th>\n",
       "      <th>last_a1c</th>\n",
       "      <th>bp_systolic</th>\n",
       "      <th>bp_diastolic</th>\n",
       "      <th>bmi</th>\n",
       "      <th>med_adherence</th>\n",
       "      <th>...</th>\n",
       "      <th>last_foot_exam</th>\n",
       "      <th>zip_code</th>\n",
       "      <th>plan_id</th>\n",
       "      <th>insurance_type</th>\n",
       "      <th>risk_level</th>\n",
       "      <th>risk_score</th>\n",
       "      <th>risk_points</th>\n",
       "      <th>risk_drivers</th>\n",
       "      <th>utilization_cost_6m</th>\n",
       "      <th>care_plan_owner</th>\n",
       "    </tr>\n",
       "  </thead>\n",
       "  <tbody>\n",
       "    <tr>\n",
       "      <th>0</th>\n",
       "      <td>PT-0000</td>\n",
       "      <td>71</td>\n",
       "      <td>M</td>\n",
       "      <td>Type 2</td>\n",
       "      <td>8.9</td>\n",
       "      <td>8.9</td>\n",
       "      <td>152</td>\n",
       "      <td>66</td>\n",
       "      <td>35.2</td>\n",
       "      <td>0.97</td>\n",
       "      <td>...</td>\n",
       "      <td>2025-02-21</td>\n",
       "      <td>10001</td>\n",
       "      <td>MEDI-ACCESS-04</td>\n",
       "      <td>Medicaid</td>\n",
       "      <td>High</td>\n",
       "      <td>High</td>\n",
       "      <td>4</td>\n",
       "      <td>A1C between 8-9%; Elevated blood pressure; No ...</td>\n",
       "      <td>5152</td>\n",
       "      <td>Care Navigator</td>\n",
       "    </tr>\n",
       "    <tr>\n",
       "      <th>1</th>\n",
       "      <td>PT-0001</td>\n",
       "      <td>53</td>\n",
       "      <td>M</td>\n",
       "      <td>Type 2</td>\n",
       "      <td>8.2</td>\n",
       "      <td>8.2</td>\n",
       "      <td>141</td>\n",
       "      <td>89</td>\n",
       "      <td>30.3</td>\n",
       "      <td>0.82</td>\n",
       "      <td>...</td>\n",
       "      <td>2025-01-12</td>\n",
       "      <td>77001</td>\n",
       "      <td>MED-OPT-01</td>\n",
       "      <td>Medicare</td>\n",
       "      <td>Medium</td>\n",
       "      <td>Medium</td>\n",
       "      <td>3</td>\n",
       "      <td>A1C between 8-9%; Elevated blood pressure; No ...</td>\n",
       "      <td>4961</td>\n",
       "      <td>Clinical Pharmacist</td>\n",
       "    </tr>\n",
       "    <tr>\n",
       "      <th>2</th>\n",
       "      <td>PT-0002</td>\n",
       "      <td>36</td>\n",
       "      <td>F</td>\n",
       "      <td>Type 2</td>\n",
       "      <td>7.1</td>\n",
       "      <td>7.1</td>\n",
       "      <td>130</td>\n",
       "      <td>95</td>\n",
       "      <td>27.5</td>\n",
       "      <td>0.86</td>\n",
       "      <td>...</td>\n",
       "      <td>2025-04-23</td>\n",
       "      <td>30301</td>\n",
       "      <td>COM-PLUS-22</td>\n",
       "      <td>Commercial</td>\n",
       "      <td>High</td>\n",
       "      <td>High</td>\n",
       "      <td>4</td>\n",
       "      <td>Elevated blood pressure; No visit in &gt;120 days...</td>\n",
       "      <td>1727</td>\n",
       "      <td>Clinical Pharmacist</td>\n",
       "    </tr>\n",
       "  </tbody>\n",
       "</table>\n",
       "<p>3 rows × 26 columns</p>\n",
       "</div>"
      ],
      "text/plain": [
       "  patient_id  age gender diabetes_type  a1c_latest  last_a1c  bp_systolic  \\\n",
       "0    PT-0000   71      M        Type 2         8.9       8.9          152   \n",
       "1    PT-0001   53      M        Type 2         8.2       8.2          141   \n",
       "2    PT-0002   36      F        Type 2         7.1       7.1          130   \n",
       "\n",
       "   bp_diastolic   bmi  med_adherence  ...  last_foot_exam zip_code  \\\n",
       "0            66  35.2           0.97  ...      2025-02-21    10001   \n",
       "1            89  30.3           0.82  ...      2025-01-12    77001   \n",
       "2            95  27.5           0.86  ...      2025-04-23    30301   \n",
       "\n",
       "          plan_id  insurance_type risk_level risk_score risk_points  \\\n",
       "0  MEDI-ACCESS-04        Medicaid       High       High           4   \n",
       "1      MED-OPT-01        Medicare     Medium     Medium           3   \n",
       "2     COM-PLUS-22      Commercial       High       High           4   \n",
       "\n",
       "                                        risk_drivers utilization_cost_6m  \\\n",
       "0  A1C between 8-9%; Elevated blood pressure; No ...                5152   \n",
       "1  A1C between 8-9%; Elevated blood pressure; No ...                4961   \n",
       "2  Elevated blood pressure; No visit in >120 days...                1727   \n",
       "\n",
       "       care_plan_owner  \n",
       "0       Care Navigator  \n",
       "1  Clinical Pharmacist  \n",
       "2  Clinical Pharmacist  \n",
       "\n",
       "[3 rows x 26 columns]"
      ]
     },
     "metadata": {},
     "output_type": "display_data"
    },
    {
     "data": {
      "text/html": [
       "<div>\n",
       "<style scoped>\n",
       "    .dataframe tbody tr th:only-of-type {\n",
       "        vertical-align: middle;\n",
       "    }\n",
       "\n",
       "    .dataframe tbody tr th {\n",
       "        vertical-align: top;\n",
       "    }\n",
       "\n",
       "    .dataframe thead th {\n",
       "        text-align: right;\n",
       "    }\n",
       "</style>\n",
       "<table border=\"1\" class=\"dataframe\">\n",
       "  <thead>\n",
       "    <tr style=\"text-align: right;\">\n",
       "      <th></th>\n",
       "      <th>patient_id</th>\n",
       "      <th>zip_code</th>\n",
       "      <th>city</th>\n",
       "      <th>state</th>\n",
       "      <th>social_vulnerability_index</th>\n",
       "      <th>food_access</th>\n",
       "      <th>transport_score</th>\n",
       "      <th>housing_stability_score</th>\n",
       "      <th>digital_literacy_score</th>\n",
       "      <th>preferred_channel</th>\n",
       "    </tr>\n",
       "  </thead>\n",
       "  <tbody>\n",
       "    <tr>\n",
       "      <th>0</th>\n",
       "      <td>PT-0000</td>\n",
       "      <td>10001</td>\n",
       "      <td>New York</td>\n",
       "      <td>NY</td>\n",
       "      <td>0.62</td>\n",
       "      <td>Moderate</td>\n",
       "      <td>0.55</td>\n",
       "      <td>0.55</td>\n",
       "      <td>0.67</td>\n",
       "      <td>SMS</td>\n",
       "    </tr>\n",
       "    <tr>\n",
       "      <th>1</th>\n",
       "      <td>PT-0001</td>\n",
       "      <td>77001</td>\n",
       "      <td>Houston</td>\n",
       "      <td>TX</td>\n",
       "      <td>0.58</td>\n",
       "      <td>Adequate</td>\n",
       "      <td>0.61</td>\n",
       "      <td>0.78</td>\n",
       "      <td>0.71</td>\n",
       "      <td>Nurse Call</td>\n",
       "    </tr>\n",
       "    <tr>\n",
       "      <th>2</th>\n",
       "      <td>PT-0002</td>\n",
       "      <td>30301</td>\n",
       "      <td>Atlanta</td>\n",
       "      <td>GA</td>\n",
       "      <td>0.78</td>\n",
       "      <td>Limited</td>\n",
       "      <td>0.42</td>\n",
       "      <td>0.70</td>\n",
       "      <td>0.45</td>\n",
       "      <td>App</td>\n",
       "    </tr>\n",
       "  </tbody>\n",
       "</table>\n",
       "</div>"
      ],
      "text/plain": [
       "  patient_id zip_code      city state  social_vulnerability_index food_access  \\\n",
       "0    PT-0000    10001  New York    NY                        0.62    Moderate   \n",
       "1    PT-0001    77001   Houston    TX                        0.58    Adequate   \n",
       "2    PT-0002    30301   Atlanta    GA                        0.78     Limited   \n",
       "\n",
       "   transport_score  housing_stability_score  digital_literacy_score  \\\n",
       "0             0.55                     0.55                    0.67   \n",
       "1             0.61                     0.78                    0.71   \n",
       "2             0.42                     0.70                    0.45   \n",
       "\n",
       "  preferred_channel  \n",
       "0               SMS  \n",
       "1        Nurse Call  \n",
       "2               App  "
      ]
     },
     "metadata": {},
     "output_type": "display_data"
    },
    {
     "data": {
      "text/html": [
       "<div>\n",
       "<style scoped>\n",
       "    .dataframe tbody tr th:only-of-type {\n",
       "        vertical-align: middle;\n",
       "    }\n",
       "\n",
       "    .dataframe tbody tr th {\n",
       "        vertical-align: top;\n",
       "    }\n",
       "\n",
       "    .dataframe thead th {\n",
       "        text-align: right;\n",
       "    }\n",
       "</style>\n",
       "<table border=\"1\" class=\"dataframe\">\n",
       "  <thead>\n",
       "    <tr style=\"text-align: right;\">\n",
       "      <th></th>\n",
       "      <th>patient_id</th>\n",
       "      <th>medication</th>\n",
       "      <th>class</th>\n",
       "      <th>monthly_cost</th>\n",
       "      <th>adherence</th>\n",
       "      <th>requires_prior_auth</th>\n",
       "    </tr>\n",
       "  </thead>\n",
       "  <tbody>\n",
       "    <tr>\n",
       "      <th>0</th>\n",
       "      <td>PT-0000</td>\n",
       "      <td>Empagliflozin</td>\n",
       "      <td>SGLT2 inhibitor</td>\n",
       "      <td>520</td>\n",
       "      <td>0.97</td>\n",
       "      <td>True</td>\n",
       "    </tr>\n",
       "    <tr>\n",
       "      <th>1</th>\n",
       "      <td>PT-0001</td>\n",
       "      <td>Metformin ER</td>\n",
       "      <td>Biguanide</td>\n",
       "      <td>12</td>\n",
       "      <td>0.82</td>\n",
       "      <td>False</td>\n",
       "    </tr>\n",
       "    <tr>\n",
       "      <th>2</th>\n",
       "      <td>PT-0002</td>\n",
       "      <td>Lisinopril</td>\n",
       "      <td>ACE inhibitor</td>\n",
       "      <td>8</td>\n",
       "      <td>0.86</td>\n",
       "      <td>False</td>\n",
       "    </tr>\n",
       "  </tbody>\n",
       "</table>\n",
       "</div>"
      ],
      "text/plain": [
       "  patient_id     medication            class  monthly_cost  adherence  \\\n",
       "0    PT-0000  Empagliflozin  SGLT2 inhibitor           520       0.97   \n",
       "1    PT-0001   Metformin ER        Biguanide            12       0.82   \n",
       "2    PT-0002     Lisinopril    ACE inhibitor             8       0.86   \n",
       "\n",
       "   requires_prior_auth  \n",
       "0                 True  \n",
       "1                False  \n",
       "2                False  "
      ]
     },
     "metadata": {},
     "output_type": "display_data"
    }
   ],
   "source": [
    "# Synthetic data factory for demonstration\n",
    "import pandas as pd\n",
    "import numpy as np\n",
    "from dataclasses import dataclass\n",
    "from IPython.display import display\n",
    "\n",
    "@dataclass\n",
    "class SyntheticHealthcareData:\n",
    "    patients: pd.DataFrame\n",
    "    encounters: pd.DataFrame\n",
    "    labs: pd.DataFrame\n",
    "    medications: pd.DataFrame\n",
    "    sdoh: pd.DataFrame\n",
    "    benefits: pd.DataFrame\n",
    "    providers: pd.DataFrame\n",
    "    plan_catalog: pd.DataFrame\n",
    "    care_team: pd.DataFrame\n",
    "    guidelines: dict\n",
    "\n",
    "class SyntheticHealthcareFactory:\n",
    "    def __init__(self, seed: int = 42):\n",
    "        self.rng = np.random.default_rng(seed)\n",
    "        self.today = pd.Timestamp.today().normalize()\n",
    "        self.window_start = self.today - pd.DateOffset(months=6)\n",
    "        self.zip_profiles = {\n",
    "            \"10001\": {\"city\": \"New York\", \"state\": \"NY\", \"svi\": 0.62, \"food_access\": \"Moderate\", \"transport_score\": 0.55},\n",
    "            \"30301\": {\"city\": \"Atlanta\", \"state\": \"GA\", \"svi\": 0.78, \"food_access\": \"Limited\", \"transport_score\": 0.42},\n",
    "            \"60601\": {\"city\": \"Chicago\", \"state\": \"IL\", \"svi\": 0.69, \"food_access\": \"Limited\", \"transport_score\": 0.48},\n",
    "            \"77001\": {\"city\": \"Houston\", \"state\": \"TX\", \"svi\": 0.58, \"food_access\": \"Adequate\", \"transport_score\": 0.61},\n",
    "            \"98101\": {\"city\": \"Seattle\", \"state\": \"WA\", \"svi\": 0.43, \"food_access\": \"Adequate\", \"transport_score\": 0.72},\n",
    "        }\n",
    "        self.medication_pool = [\n",
    "            {\"name\": \"Metformin ER\", \"drug_class\": \"Biguanide\", \"monthly_cost\": 12, \"requires_prior_auth\": False},\n",
    "            {\"name\": \"Insulin Glargine\", \"drug_class\": \"Basal insulin\", \"monthly_cost\": 94, \"requires_prior_auth\": True},\n",
    "            {\"name\": \"Semaglutide\", \"drug_class\": \"GLP-1 RA\", \"monthly_cost\": 890, \"requires_prior_auth\": True},\n",
    "            {\"name\": \"Empagliflozin\", \"drug_class\": \"SGLT2 inhibitor\", \"monthly_cost\": 520, \"requires_prior_auth\": True},\n",
    "            {\"name\": \"Lisinopril\", \"drug_class\": \"ACE inhibitor\", \"monthly_cost\": 8, \"requires_prior_auth\": False},\n",
    "        ]\n",
    "        self.provider_pool = [\n",
    "            {\"provider_id\": \"PRV100\", \"name\": \"City Endocrinology Group\", \"specialty\": \"Endocrinology\", \"next_available_days\": 8},\n",
    "            {\"provider_id\": \"PRV220\", \"name\": \"Northside Foot Clinic\", \"specialty\": \"Podiatry\", \"next_available_days\": 5},\n",
    "            {\"provider_id\": \"PRV305\", \"name\": \"Metro Retina Associates\", \"specialty\": \"Ophthalmology\", \"next_available_days\": 12},\n",
    "            {\"provider_id\": \"PRV410\", \"name\": \"Community Renal Care\", \"specialty\": \"Nephrology\", \"next_available_days\": 18},\n",
    "            {\"provider_id\": \"PRV515\", \"name\": \"WellLife Coaching\", \"specialty\": \"Behavioral Health\", \"next_available_days\": 6},\n",
    "        ]\n",
    "        self.plan_catalog = pd.DataFrame([\n",
    "            {\"plan_id\": \"MED-OPT-01\", \"plan_name\": \"Optimum Medicare Advantage\", \"type\": \"Medicare\", \"annual_deductible\": 0, \"primary_care_copay\": 15, \"diabetes_supply_coverage\": 0.9, \"care_coach_access\": True},\n",
    "            {\"plan_id\": \"COM-PLUS-22\", \"plan_name\": \"Alinea Employer Plus\", \"type\": \"Commercial\", \"annual_deductible\": 1200, \"primary_care_copay\": 25, \"diabetes_supply_coverage\": 0.7, \"care_coach_access\": True},\n",
    "            {\"plan_id\": \"MEDI-ACCESS-04\", \"plan_name\": \"Medicaid Access\", \"type\": \"Medicaid\", \"annual_deductible\": 0, \"primary_care_copay\": 0, \"diabetes_supply_coverage\": 0.95, \"care_coach_access\": False},\n",
    "        ])\n",
    "\n",
    "    def _score_patient(self, a1c, sbp, dbp, adherence, comorbid_count, last_visit_days, zip_profile, last_eye_exam, behavioral_flag):\n",
    "        score = 0\n",
    "        drivers = []\n",
    "        if a1c >= 9.0:\n",
    "            score += 2\n",
    "            drivers.append(\"A1C >= 9%\")\n",
    "        elif a1c >= 8.0:\n",
    "            score += 1\n",
    "            drivers.append(\"A1C between 8-9%\")\n",
    "        if sbp >= 140 or dbp >= 90:\n",
    "            score += 1\n",
    "            drivers.append(\"Elevated blood pressure\")\n",
    "        if adherence < 0.65:\n",
    "            score += 1\n",
    "            drivers.append(\"Low medication adherence\")\n",
    "        if comorbid_count >= 3:\n",
    "            score += 1\n",
    "            drivers.append(\"3+ comorbidities\")\n",
    "        if last_visit_days > 120:\n",
    "            score += 1\n",
    "            drivers.append(\"No visit in >120 days\")\n",
    "        if (self.today - last_eye_exam).days > 365:\n",
    "            score += 1\n",
    "            drivers.append(\"Eye exam overdue\")\n",
    "        if zip_profile[\"svi\"] >= 0.7 or zip_profile[\"food_access\"] == \"Limited\":\n",
    "            score += 1\n",
    "            drivers.append(\"High social vulnerability\")\n",
    "        if behavioral_flag:\n",
    "            score += 1\n",
    "            drivers.append(\"Behavioral health risk\")\n",
    "        if score >= 6:\n",
    "            level = \"Critical\"\n",
    "        elif score >= 4:\n",
    "            level = \"High\"\n",
    "        elif score >= 2:\n",
    "            level = \"Medium\"\n",
    "        else:\n",
    "            level = \"Low\"\n",
    "        return level, score, drivers\n",
    "\n",
    "    def _make_patient_profile(self, index: int):\n",
    "        zip_code = self.rng.choice(list(self.zip_profiles.keys()))\n",
    "        zip_profile = self.zip_profiles[zip_code]\n",
    "        random_state = int(self.rng.integers(0, 10_000))\n",
    "        plan_row = self.plan_catalog.sample(1, random_state=random_state).iloc[0]\n",
    "        diabetes_type = self.rng.choice([\"Type 1\", \"Type 2\"], p=[0.18, 0.82])\n",
    "        a1c = float(np.clip(self.rng.normal(8.1, 1.1), 6.0, 13.5))\n",
    "        sbp = int(np.clip(self.rng.normal(137, 16), 108, 182))\n",
    "        dbp = int(np.clip(self.rng.normal(84, 9), 60, 108))\n",
    "        adherence = round(float(self.rng.uniform(0.45, 0.98)), 2)\n",
    "        comorbid_options = [\"Hypertension\", \"CKD Stage 2\", \"Neuropathy\", \"Hyperlipidemia\", \"Obesity\", \"Depression\"]\n",
    "        comorbid_count = int(self.rng.integers(0, 4))\n",
    "        comorbidities = \", \".join(self.rng.choice(comorbid_options, size=comorbid_count, replace=False)) if comorbid_count else \"None\"\n",
    "        last_visit_days = int(self.rng.integers(21, 220))\n",
    "        last_eye_exam = self.today - pd.Timedelta(days=int(self.rng.integers(140, 520)))\n",
    "        last_kidney_screen = self.today - pd.Timedelta(days=int(self.rng.integers(90, 480)))\n",
    "        last_foot_exam = self.today - pd.Timedelta(days=int(self.rng.integers(60, 400)))\n",
    "        bmi = round(float(np.clip(self.rng.normal(31.5, 4.2), 21, 46)), 1)\n",
    "        behavioral_flag = self.rng.choice([0, 1], p=[0.7, 0.3])\n",
    "        risk_level, risk_points, risk_labels = self._score_patient(\n",
    "            a1c=a1c,\n",
    "            sbp=sbp,\n",
    "            dbp=dbp,\n",
    "            adherence=adherence,\n",
    "            comorbid_count=comorbid_count,\n",
    "            last_visit_days=last_visit_days,\n",
    "            zip_profile=zip_profile,\n",
    "            last_eye_exam=last_eye_exam,\n",
    "            behavioral_flag=behavioral_flag,\n",
    "        )\n",
    "        patient = {\n",
    "            \"patient_id\": f\"PT-{index:04d}\",\n",
    "            \"age\": int(self.rng.integers(29, 84)),\n",
    "            \"gender\": self.rng.choice([\"F\", \"M\"]),\n",
    "            \"diabetes_type\": diabetes_type,\n",
    "            \"a1c_latest\": round(a1c, 1),\n",
    "            \"last_a1c\": round(a1c, 1),\n",
    "            \"bp_systolic\": sbp,\n",
    "            \"bp_diastolic\": dbp,\n",
    "            \"bmi\": bmi,\n",
    "            \"med_adherence\": adherence,\n",
    "            \"medication_adherence\": adherence,\n",
    "            \"comorbidities\": comorbidities,\n",
    "            \"behavioral_health_flag\": bool(behavioral_flag),\n",
    "            \"last_visit_days_ago\": last_visit_days,\n",
    "            \"last_eye_exam\": last_eye_exam,\n",
    "            \"last_kidney_screen\": last_kidney_screen,\n",
    "            \"last_foot_exam\": last_foot_exam,\n",
    "            \"zip_code\": zip_code,\n",
    "            \"plan_id\": plan_row[\"plan_id\"],\n",
    "            \"insurance_type\": plan_row[\"type\"],\n",
    "            \"risk_level\": risk_level,\n",
    "            \"risk_score\": risk_level,\n",
    "            \"risk_points\": risk_points,\n",
    "            \"risk_drivers\": \"; \".join(risk_labels),\n",
    "            \"utilization_cost_6m\": int(np.clip(self.rng.normal(3800, 1200), 900, 12000)),\n",
    "            \"care_plan_owner\": self.rng.choice([\"Clinical Nurse Lead\", \"Care Navigator\", \"Clinical Pharmacist\"]),\n",
    "        }\n",
    "        return patient, zip_code, zip_profile, plan_row\n",
    "\n",
    "    def _make_sdoh_row(self, patient_id, zip_code, zip_profile):\n",
    "        return {\n",
    "            \"patient_id\": patient_id,\n",
    "            \"zip_code\": zip_code,\n",
    "            \"city\": zip_profile[\"city\"],\n",
    "            \"state\": zip_profile[\"state\"],\n",
    "            \"social_vulnerability_index\": zip_profile[\"svi\"],\n",
    "            \"food_access\": zip_profile[\"food_access\"],\n",
    "            \"transport_score\": zip_profile[\"transport_score\"],\n",
    "            \"housing_stability_score\": round(float(self.rng.uniform(0.45, 0.88)), 2),\n",
    "            \"digital_literacy_score\": round(float(self.rng.uniform(0.35, 0.92)), 2),\n",
    "            \"preferred_channel\": self.rng.choice([\"SMS\", \"Nurse Call\", \"App\", \"Home Visit\"], p=[0.42, 0.26, 0.24, 0.08]),\n",
    "        }\n",
    "\n",
    "    def _make_benefits_row(self, patient_id, plan_row):\n",
    "        deductible = int(plan_row[\"annual_deductible\"])\n",
    "        return {\n",
    "            \"patient_id\": patient_id,\n",
    "            \"plan_id\": plan_row[\"plan_id\"],\n",
    "            \"deductible_remaining\": max(deductible - int(self.rng.integers(0, deductible + 1)), 0),\n",
    "            \"oop_spend_ytd\": int(np.clip(self.rng.normal(620, 180), 120, 1600)),\n",
    "            \"has_care_management\": bool(plan_row[\"care_coach_access\"]),\n",
    "            \"prior_auth_required\": self.rng.choice([True, False], p=[0.3, 0.7]),\n",
    "            \"pharmacy_alignment\": self.rng.choice([\"In-network\", \"Partial\", \"Out-of-network\"], p=[0.68, 0.25, 0.07]),\n",
    "        }\n",
    "\n",
    "    def _make_encounters(self, patient_id):\n",
    "        encounter_types = [\"Primary Care\", \"Endocrinology Consult\", \"Emergency Department\", \"Virtual Coaching\", \"Podiatry Follow-up\"]\n",
    "        reasons = [\n",
    "            \"Routine diabetes follow-up\",\n",
    "            \"Medication titration\",\n",
    "            \"Hypoglycemia event\",\n",
    "            \"Foot ulcer check\",\n",
    "            \"Behavioral coaching\",\n",
    "            \"Hospital discharge transition\",\n",
    "        ]\n",
    "        rows = []\n",
    "        for _ in range(int(self.rng.integers(3, 7))):\n",
    "            encounter_date = self.today - pd.Timedelta(days=int(self.rng.integers(7, 170)))\n",
    "            encounter_type = self.rng.choice(encounter_types, p=[0.45, 0.18, 0.12, 0.15, 0.1])\n",
    "            rows.append({\n",
    "                \"patient_id\": patient_id,\n",
    "                \"encounter_date\": encounter_date,\n",
    "                \"encounter_type\": encounter_type,\n",
    "                \"reason\": self.rng.choice(reasons),\n",
    "                \"cost\": int(np.clip(self.rng.normal(320, 140), 90, 1200)),\n",
    "                \"care_gap_closed\": self.rng.choice([True, False], p=[0.35, 0.65]),\n",
    "            })\n",
    "        return rows\n",
    "\n",
    "    def _make_labs(self, patient_id, baseline_a1c):\n",
    "        lab_rows = []\n",
    "        months = np.array([0, -3, -6])\n",
    "        for delta in months:\n",
    "            lab_date = self.today + pd.DateOffset(months=int(delta))\n",
    "            a1c_value = float(np.clip(baseline_a1c + self.rng.normal(0, 0.4) + (0.15 * delta / -3), 5.8, 13.5))\n",
    "            lab_rows.append({\n",
    "                \"patient_id\": patient_id,\n",
    "                \"lab_date\": lab_date,\n",
    "                \"test\": \"HbA1c\",\n",
    "                \"value\": round(a1c_value, 1),\n",
    "                \"unit\": \"%\",\n",
    "            })\n",
    "            lab_rows.append({\n",
    "                \"patient_id\": patient_id,\n",
    "                \"lab_date\": lab_date,\n",
    "                \"test\": \"LDL Cholesterol\",\n",
    "                \"value\": int(np.clip(self.rng.normal(104, 22), 60, 210)),\n",
    "                \"unit\": \"mg/dL\",\n",
    "            })\n",
    "            lab_rows.append({\n",
    "                \"patient_id\": patient_id,\n",
    "                \"lab_date\": lab_date,\n",
    "                \"test\": \"eGFR\",\n",
    "                \"value\": int(np.clip(self.rng.normal(72, 15), 28, 120)),\n",
    "                \"unit\": \"mL/min\",\n",
    "            })\n",
    "        return lab_rows\n",
    "\n",
    "    def _make_medications(self, patient_id, adherence):\n",
    "        regimen_size = int(self.rng.integers(1, 3))\n",
    "        med_indices = self.rng.choice(len(self.medication_pool), size=regimen_size, replace=False)\n",
    "        rows = []\n",
    "        for idx in med_indices:\n",
    "            med = self.medication_pool[idx]\n",
    "            rows.append({\n",
    "                \"patient_id\": patient_id,\n",
    "                \"medication\": med[\"name\"],\n",
    "                \"class\": med[\"drug_class\"],\n",
    "                \"monthly_cost\": med[\"monthly_cost\"],\n",
    "                \"adherence\": adherence,\n",
    "                \"requires_prior_auth\": med[\"requires_prior_auth\"],\n",
    "            })\n",
    "        return rows\n",
    "\n",
    "    def create(self, n_patients: int = 120) -> SyntheticHealthcareData:\n",
    "        patient_rows, sdoh_rows, benefit_rows = [], [], []\n",
    "        encounter_rows, lab_rows, medication_rows = [], [], []\n",
    "        for idx in range(n_patients):\n",
    "            patient_row, zip_code, zip_profile, plan_row = self._make_patient_profile(idx)\n",
    "            patient_rows.append(patient_row)\n",
    "            sdoh_rows.append(self._make_sdoh_row(patient_row[\"patient_id\"], zip_code, zip_profile))\n",
    "            benefit_rows.append(self._make_benefits_row(patient_row[\"patient_id\"], plan_row))\n",
    "            encounter_rows.extend(self._make_encounters(patient_row[\"patient_id\"]))\n",
    "            lab_rows.extend(self._make_labs(patient_row[\"patient_id\"], patient_row[\"a1c_latest\"]))\n",
    "            medication_rows.extend(self._make_medications(patient_row[\"patient_id\"], patient_row[\"med_adherence\"]))\n",
    "        care_team = pd.DataFrame([\n",
    "            {\"name\": \"Jordan Rivera\", \"role\": \"Clinical Nurse Lead\", \"focus\": \"Risk stratification & clinical escalations\", \"panel_capacity\": 45},\n",
    "            {\"name\": \"Taylor Evans\", \"role\": \"Care Navigator\", \"focus\": \"Benefits, SDOH, and referrals\", \"panel_capacity\": 60},\n",
    "            {\"name\": \"Morgan Chen\", \"role\": \"Clinical Pharmacist\", \"focus\": \"Medication optimization & adherence\", \"panel_capacity\": 55},\n",
    "        ])\n",
    "        guidelines = {\n",
    "            \"diabetes\": {\n",
    "                \"a1c_target\": 7.0,\n",
    "                \"eye_exam_frequency_days\": 365,\n",
    "                \"kidney_screen_frequency_days\": 365,\n",
    "                \"foot_exam_frequency_days\": 365,\n",
    "            },\n",
    "            \"cardiometabolic\": {\n",
    "                \"bp_systolic_target\": 130,\n",
    "                \"bp_diastolic_target\": 80,\n",
    "                \"ldl_target\": 100,\n",
    "            },\n",
    "            \"adherence_threshold\": 0.8,\n",
    "        }\n",
    "        data = SyntheticHealthcareData(\n",
    "            patients=pd.DataFrame(patient_rows),\n",
    "            encounters=pd.DataFrame(encounter_rows),\n",
    "            labs=pd.DataFrame(lab_rows),\n",
    "            medications=pd.DataFrame(medication_rows),\n",
    "            sdoh=pd.DataFrame(sdoh_rows),\n",
    "            benefits=pd.DataFrame(benefit_rows),\n",
    "            providers=pd.DataFrame(self.provider_pool),\n",
    "            plan_catalog=self.plan_catalog.copy(),\n",
    "            care_team=care_team,\n",
    "            guidelines=guidelines,\n",
    "        )\n",
    "        return data\n",
    "\n",
    "factory = SyntheticHealthcareFactory(seed=42)\n",
    "synthetic_data = factory.create(n_patients=120)\n",
    "cohort = synthetic_data.patients\n",
    "print(\"✅ Synthetic healthcare dataset ready\")\n",
    "print(f\"Patients: {len(cohort)} | High or critical risk: {(cohort.risk_level.isin(['High', 'Critical'])).sum()}\")\n",
    "display(cohort.head(3))\n",
    "display(synthetic_data.sdoh.head(3))\n",
    "display(synthetic_data.medications.head(3))\n"
   ]
  },
  {
   "cell_type": "code",
   "execution_count": 13,
   "id": "db605aec",
   "metadata": {},
   "outputs": [
    {
     "name": "stdout",
     "output_type": "stream",
     "text": [
      "Risk-level distribution:\n"
     ]
    },
    {
     "data": {
      "text/html": [
       "<div>\n",
       "<style scoped>\n",
       "    .dataframe tbody tr th:only-of-type {\n",
       "        vertical-align: middle;\n",
       "    }\n",
       "\n",
       "    .dataframe tbody tr th {\n",
       "        vertical-align: top;\n",
       "    }\n",
       "\n",
       "    .dataframe thead th {\n",
       "        text-align: right;\n",
       "    }\n",
       "</style>\n",
       "<table border=\"1\" class=\"dataframe\">\n",
       "  <thead>\n",
       "    <tr style=\"text-align: right;\">\n",
       "      <th></th>\n",
       "      <th>risk_level</th>\n",
       "      <th>patients</th>\n",
       "    </tr>\n",
       "  </thead>\n",
       "  <tbody>\n",
       "    <tr>\n",
       "      <th>0</th>\n",
       "      <td>Medium</td>\n",
       "      <td>48</td>\n",
       "    </tr>\n",
       "    <tr>\n",
       "      <th>1</th>\n",
       "      <td>High</td>\n",
       "      <td>41</td>\n",
       "    </tr>\n",
       "    <tr>\n",
       "      <th>2</th>\n",
       "      <td>Critical</td>\n",
       "      <td>16</td>\n",
       "    </tr>\n",
       "    <tr>\n",
       "      <th>3</th>\n",
       "      <td>Low</td>\n",
       "      <td>15</td>\n",
       "    </tr>\n",
       "  </tbody>\n",
       "</table>\n",
       "</div>"
      ],
      "text/plain": [
       "  risk_level  patients\n",
       "0     Medium        48\n",
       "1       High        41\n",
       "2   Critical        16\n",
       "3        Low        15"
      ]
     },
     "metadata": {},
     "output_type": "display_data"
    },
    {
     "name": "stdout",
     "output_type": "stream",
     "text": [
      "Food access distribution:\n"
     ]
    },
    {
     "data": {
      "text/html": [
       "<div>\n",
       "<style scoped>\n",
       "    .dataframe tbody tr th:only-of-type {\n",
       "        vertical-align: middle;\n",
       "    }\n",
       "\n",
       "    .dataframe tbody tr th {\n",
       "        vertical-align: top;\n",
       "    }\n",
       "\n",
       "    .dataframe thead th {\n",
       "        text-align: right;\n",
       "    }\n",
       "</style>\n",
       "<table border=\"1\" class=\"dataframe\">\n",
       "  <thead>\n",
       "    <tr style=\"text-align: right;\">\n",
       "      <th></th>\n",
       "      <th>food_access</th>\n",
       "      <th>patients</th>\n",
       "    </tr>\n",
       "  </thead>\n",
       "  <tbody>\n",
       "    <tr>\n",
       "      <th>0</th>\n",
       "      <td>Adequate</td>\n",
       "      <td>52</td>\n",
       "    </tr>\n",
       "    <tr>\n",
       "      <th>1</th>\n",
       "      <td>Limited</td>\n",
       "      <td>46</td>\n",
       "    </tr>\n",
       "    <tr>\n",
       "      <th>2</th>\n",
       "      <td>Moderate</td>\n",
       "      <td>22</td>\n",
       "    </tr>\n",
       "  </tbody>\n",
       "</table>\n",
       "</div>"
      ],
      "text/plain": [
       "  food_access  patients\n",
       "0    Adequate        52\n",
       "1     Limited        46\n",
       "2    Moderate        22"
      ]
     },
     "metadata": {},
     "output_type": "display_data"
    },
    {
     "name": "stdout",
     "output_type": "stream",
     "text": [
      "Average 6-month utilization cost by risk level ($):\n",
      "risk_level\n",
      "Critical    3473\n",
      "High        3879\n",
      "Low         3758\n",
      "Medium      3892\n",
      "Three-person care team powering the program:\n"
     ]
    },
    {
     "data": {
      "text/html": [
       "<div>\n",
       "<style scoped>\n",
       "    .dataframe tbody tr th:only-of-type {\n",
       "        vertical-align: middle;\n",
       "    }\n",
       "\n",
       "    .dataframe tbody tr th {\n",
       "        vertical-align: top;\n",
       "    }\n",
       "\n",
       "    .dataframe thead th {\n",
       "        text-align: right;\n",
       "    }\n",
       "</style>\n",
       "<table border=\"1\" class=\"dataframe\">\n",
       "  <thead>\n",
       "    <tr style=\"text-align: right;\">\n",
       "      <th></th>\n",
       "      <th>name</th>\n",
       "      <th>role</th>\n",
       "      <th>focus</th>\n",
       "      <th>panel_capacity</th>\n",
       "    </tr>\n",
       "  </thead>\n",
       "  <tbody>\n",
       "    <tr>\n",
       "      <th>0</th>\n",
       "      <td>Jordan Rivera</td>\n",
       "      <td>Clinical Nurse Lead</td>\n",
       "      <td>Risk stratification &amp; clinical escalations</td>\n",
       "      <td>45</td>\n",
       "    </tr>\n",
       "    <tr>\n",
       "      <th>1</th>\n",
       "      <td>Taylor Evans</td>\n",
       "      <td>Care Navigator</td>\n",
       "      <td>Benefits, SDOH, and referrals</td>\n",
       "      <td>60</td>\n",
       "    </tr>\n",
       "    <tr>\n",
       "      <th>2</th>\n",
       "      <td>Morgan Chen</td>\n",
       "      <td>Clinical Pharmacist</td>\n",
       "      <td>Medication optimization &amp; adherence</td>\n",
       "      <td>55</td>\n",
       "    </tr>\n",
       "  </tbody>\n",
       "</table>\n",
       "</div>"
      ],
      "text/plain": [
       "            name                 role  \\\n",
       "0  Jordan Rivera  Clinical Nurse Lead   \n",
       "1   Taylor Evans       Care Navigator   \n",
       "2    Morgan Chen  Clinical Pharmacist   \n",
       "\n",
       "                                        focus  panel_capacity  \n",
       "0  Risk stratification & clinical escalations              45  \n",
       "1               Benefits, SDOH, and referrals              60  \n",
       "2         Medication optimization & adherence              55  "
      ]
     },
     "metadata": {},
     "output_type": "display_data"
    }
   ],
   "source": [
    "# Quick cohort view for analytics context\n",
    "risk_summary = (cohort['risk_level'].value_counts()\n",
    "                .rename_axis('risk_level')\n",
    "                .reset_index(name='patients'))\n",
    "print('Risk-level distribution:')\n",
    "display(risk_summary)\n",
    "\n",
    "sdoh_summary = (synthetic_data.sdoh.groupby('food_access')['patient_id']\n",
    "                .count()\n",
    "                .rename('patients')\n",
    "                .reset_index())\n",
    "print('Food access distribution:')\n",
    "display(sdoh_summary)\n",
    "\n",
    "cost_by_risk = (cohort.groupby('risk_level')['utilization_cost_6m']\n",
    "                .mean()\n",
    "                .round(0)\n",
    "                .astype(int))\n",
    "print('Average 6-month utilization cost by risk level ($):')\n",
    "print(cost_by_risk.to_string())\n",
    "\n",
    "print('Three-person care team powering the program:')\n",
    "display(synthetic_data.care_team)"
   ]
  },
  {
   "cell_type": "markdown",
   "id": "d0cbd364",
   "metadata": {
    "id": "d0cbd364"
   },
   "source": [
    "### Multi-Agent Workflow Implementation"
   ]
  },
  {
   "cell_type": "code",
   "execution_count": null,
   "id": "14929da6",
   "metadata": {
    "id": "14929da6",
    "outputId": "cd5083a8-f6f8-404c-ae7d-060279527505"
   },
   "outputs": [],
   "source": [
    "# Patient Journey Orchestrator with deterministic multi-agent pipeline\n",
    "from typing import Dict, Any, List\n",
    "\n",
    "\n",
    "class PatientJourneyOrchestrator:\n",
    "    \"\"\"Coordinated multi-agent workflow. Swap in LLM-backed handlers via `register_agent_handler`.\"\"\"\n",
    "\n",
    "    def __init__(self, data_bundle, swarm_client=None):\n",
    "        self.data = data_bundle\n",
    "        self.swarm_client = swarm_client\n",
    "        self.today = pd.Timestamp.today().normalize()\n",
    "        self.guidelines = data_bundle.guidelines\n",
    "        self.sdoh_lookup = data_bundle.sdoh.set_index('patient_id')\n",
    "        self.benefits_lookup = data_bundle.benefits.set_index('patient_id')\n",
    "        self.plan_lookup = data_bundle.plan_catalog.set_index('plan_id')\n",
    "        self.providers = data_bundle.providers\n",
    "        self.labs_lookup = {pid: df.sort_values('lab_date') for pid, df in data_bundle.labs.groupby('patient_id')}\n",
    "        self.encounter_lookup = {pid: df.sort_values('encounter_date') for pid, df in data_bundle.encounters.groupby('patient_id')}\n",
    "        self.meds_lookup = {pid: df for pid, df in data_bundle.medications.groupby('patient_id')}\n",
    "        self.owner_lookup = {row['role']: row['name'] for _, row in data_bundle.care_team.iterrows()}\n",
    "        self.agent_labels = {\n",
    "            'risk': 'Risk Stratification Specialist',\n",
    "            'care': 'Care Gap Analyst',\n",
    "            'benefits': 'Benefits Navigator',\n",
    "            'engagement': 'Engagement Strategist',\n",
    "        }\n",
    "        self.custom_handlers: Dict[str, Any] = {}\n",
    "        self.rng = np.random.default_rng(123)\n",
    "        self.last_run = None\n",
    "\n",
    "    # ------------------------------------------------------------------\n",
    "    # Agent registration helpers\n",
    "    # ------------------------------------------------------------------\n",
    "    def register_agent_handler(self, agent_label: str, handler) -> None:\n",
    "        \"\"\"Override default deterministic handler (e.g., plug in a Swarm agent).\"\"\"\n",
    "        self.custom_handlers[agent_label] = handler\n",
    "\n",
    "    def _invoke_handler(self, handler, patient):\n",
    "        attempts = (\n",
    "            lambda: handler(patient=patient, orchestrator=self),\n",
    "            lambda: handler(patient=patient),\n",
    "            lambda: handler(patient, self),\n",
    "            lambda: handler(patient),\n",
    "        )\n",
    "        for attempt in attempts:\n",
    "            try:\n",
    "                return attempt()\n",
    "            except TypeError:\n",
    "                continue\n",
    "        raise TypeError('Agent handler signature not supported')\n",
    "\n",
    "    # ------------------------------------------------------------------\n",
    "    # Shared utilities\n",
    "    # ------------------------------------------------------------------\n",
    "    def _owner_name(self, role: str) -> str:\n",
    "        return self.owner_lookup.get(role, role)\n",
    "\n",
    "    def _provider_by_specialty(self, specialty: str):\n",
    "        matches = self.providers[self.providers['specialty'] == specialty]\n",
    "        if matches.empty:\n",
    "            return None\n",
    "        idx = matches['next_available_days'].astype(int).idxmin()\n",
    "        return matches.loc[idx]\n",
    "\n",
    "    def _latest_lab(self, patient_id: str, test_name: str):\n",
    "        labs = self.labs_lookup.get(patient_id)\n",
    "        if labs is None:\n",
    "            return None\n",
    "        sample = labs[labs['test'] == test_name]\n",
    "        if sample.empty:\n",
    "            return None\n",
    "        return sample.iloc[-1]\n",
    "\n",
    "    def _recent_ed_visits(self, patient_id: str, days: int = 90) -> int:\n",
    "        encounters = self.encounter_lookup.get(patient_id)\n",
    "        if encounters is None:\n",
    "            return 0\n",
    "        cutoff = self.today - pd.Timedelta(days=days)\n",
    "        return int(encounters[(encounters['encounter_type'] == 'Emergency Department') & (encounters['encounter_date'] >= cutoff)].shape[0])\n",
    "\n",
    "    # ------------------------------------------------------------------\n",
    "    # Agent implementations (deterministic fallbacks)\n",
    "    # ------------------------------------------------------------------\n",
    "    def _risk_agent(self, patient: pd.Series) -> Dict[str, Any]:\n",
    "        sdoh = self.sdoh_lookup.loc[patient['patient_id']]\n",
    "        ed_visits = self._recent_ed_visits(patient['patient_id'])\n",
    "        insights = [\n",
    "            f\"Risk drivers: {patient['risk_drivers'] if patient['risk_drivers'] else 'None recorded'}\",\n",
    "            f\"Medication adherence: {patient['med_adherence']:.0%}\",\n",
    "            f\"Last visit: {patient['last_visit_days_ago']} days ago\",\n",
    "        ]\n",
    "        if ed_visits:\n",
    "            insights.append(f\"{ed_visits} ER visit(s) in past 90 days\")\n",
    "        actions: List[Dict[str, Any]] = []\n",
    "        if patient['risk_level'] in {'High', 'Critical'}:\n",
    "            actions.append({\n",
    "                'title': 'Add to daily high-risk clinical standup',\n",
    "                'owner': 'Clinical Nurse Lead',\n",
    "                'owner_name': self._owner_name('Clinical Nurse Lead'),\n",
    "                'due_in_days': 1,\n",
    "                'impact': 'Clinical risk mitigation',\n",
    "                'impact_weight': 5 if patient['risk_level'] == 'Critical' else 4,\n",
    "                'expected_cost_delta': 520 if patient['risk_level'] == 'Critical' else 320,\n",
    "                'expected_readmission_delta': 1.4 if patient['risk_level'] == 'Critical' else 0.9,\n",
    "                'confidence': 0.75,\n",
    "            })\n",
    "        if patient['last_visit_days_ago'] > 120:\n",
    "            actions.append({\n",
    "                'title': 'Book urgent PCP or endocrinology follow-up',\n",
    "                'owner': 'Clinical Nurse Lead',\n",
    "                'owner_name': self._owner_name('Clinical Nurse Lead'),\n",
    "                'due_in_days': 5,\n",
    "                'impact': 'Clinical risk mitigation',\n",
    "                'impact_weight': 4,\n",
    "                'expected_cost_delta': 280,\n",
    "                'expected_readmission_delta': 0.6,\n",
    "                'confidence': 0.7,\n",
    "            })\n",
    "        if patient['behavioral_health_flag']:\n",
    "            actions.append({\n",
    "                'title': 'Warm handoff to behavioral health partner',\n",
    "                'owner': 'Care Navigator',\n",
    "                'owner_name': self._owner_name('Care Navigator'),\n",
    "                'due_in_days': 7,\n",
    "                'impact': 'Whole-person care',\n",
    "                'impact_weight': 3,\n",
    "                'expected_cost_delta': 180,\n",
    "                'expected_readmission_delta': 0.4,\n",
    "                'confidence': 0.6,\n",
    "            })\n",
    "        summary = (\n",
    "            f\"{patient['risk_level']} risk (score {int(patient['risk_points'])}). \"\n",
    "            f\"A1C {patient['a1c_latest']}%, adherence {patient['med_adherence']:.0%}. \"\n",
    "            f\"SVI {sdoh['social_vulnerability_index']:.2f} with {sdoh['food_access'].lower()} food access.\"\n",
    "        )\n",
    "        return {\n",
    "            'agent': self.agent_labels['risk'],\n",
    "            'summary': summary,\n",
    "            'insights': insights,\n",
    "            'actions': actions,\n",
    "            'metrics': {\n",
    "                'risk_level': patient['risk_level'],\n",
    "                'risk_points': int(patient['risk_points']),\n",
    "                'ed_visits_90d': ed_visits,\n",
    "            },\n",
    "        }\n",
    "\n",
    "    def _care_gap_agent(self, patient: pd.Series) -> Dict[str, Any]:\n",
    "        diabetes_guidelines = self.guidelines['diabetes']\n",
    "        cardio_guidelines = self.guidelines['cardiometabolic']\n",
    "        today = self.today\n",
    "\n",
    "        insights: List[str] = []\n",
    "        gaps: List[str] = []\n",
    "        actions: List[Dict[str, Any]] = []\n",
    "\n",
    "        labs = self.labs_lookup.get(patient['patient_id'])\n",
    "        if labs is not None:\n",
    "            a1c_trend = labs[labs['test'] == 'HbA1c'].sort_values('lab_date')['value']\n",
    "            if len(a1c_trend) >= 2:\n",
    "                delta = a1c_trend.iloc[-1] - a1c_trend.iloc[-2]\n",
    "                insights.append(f\"A1C delta vs last check: {delta:+.1f} points\")\n",
    "        latest_a1c = self._latest_lab(patient['patient_id'], 'HbA1c')\n",
    "        latest_ldl = self._latest_lab(patient['patient_id'], 'LDL Cholesterol')\n",
    "        latest_egfr = self._latest_lab(patient['patient_id'], 'eGFR')\n",
    "\n",
    "        def build_action(title, owner_role, due_in_days, impact_weight, cost_delta, readmit_delta, confidence):\n",
    "            return {\n",
    "                'title': title,\n",
    "                'owner': owner_role,\n",
    "                'owner_name': self._owner_name(owner_role),\n",
    "                'due_in_days': due_in_days,\n",
    "                'impact': 'Care gap closure',\n",
    "                'impact_weight': impact_weight,\n",
    "                'expected_cost_delta': cost_delta,\n",
    "                'expected_readmission_delta': readmit_delta,\n",
    "                'confidence': confidence,\n",
    "            }\n",
    "\n",
    "        eye_overdue = (today - patient['last_eye_exam']).days - diabetes_guidelines['eye_exam_frequency_days']\n",
    "        if eye_overdue > 0:\n",
    "            gaps.append(f\"Retinal exam overdue by {eye_overdue} days\")\n",
    "            provider = self._provider_by_specialty('Ophthalmology')\n",
    "            title = 'Schedule retinal exam'\n",
    "            if provider is not None:\n",
    "                title = f\"Schedule retinal exam with {provider['name']}\"\n",
    "            actions.append(build_action(title, 'Care Navigator', 7, 4, 210, 0.4, 0.7))\n",
    "\n",
    "        kidney_overdue = (today - patient['last_kidney_screen']).days - diabetes_guidelines['kidney_screen_frequency_days']\n",
    "        if kidney_overdue > 0:\n",
    "            gaps.append(f\"Kidney screening overdue by {kidney_overdue} days\")\n",
    "            provider = self._provider_by_specialty('Nephrology')\n",
    "            title = 'Order microalbumin screen'\n",
    "            if provider is not None:\n",
    "                title = f\"Coordinate kidney labs with {provider['name']}\"\n",
    "            actions.append(build_action(title, 'Clinical Nurse Lead', 10, 3, 240, 0.3, 0.65))\n",
    "\n",
    "        foot_overdue = (today - patient['last_foot_exam']).days - diabetes_guidelines['foot_exam_frequency_days']\n",
    "        if foot_overdue > 0:\n",
    "            gaps.append(f\"Foot exam overdue by {foot_overdue} days\")\n",
    "            provider = self._provider_by_specialty('Podiatry')\n",
    "            title = 'Book podiatry preventive visit'\n",
    "            if provider is not None:\n",
    "                title = f\"Book podiatry visit with {provider['name']}\"\n",
    "            actions.append(build_action(title, 'Care Navigator', 12, 3, 160, 0.2, 0.65))\n",
    "\n",
    "        if latest_a1c is not None and latest_a1c['value'] > diabetes_guidelines['a1c_target']:\n",
    "            diff = latest_a1c['value'] - diabetes_guidelines['a1c_target']\n",
    "            gaps.append(f\"HbA1c {latest_a1c['value']}% (>{diabetes_guidelines['a1c_target']}% target)\")\n",
    "            actions.append({\n",
    "                'title': 'Run medication escalation case review',\n",
    "                'owner': 'Clinical Pharmacist',\n",
    "                'owner_name': self._owner_name('Clinical Pharmacist'),\n",
    "                'due_in_days': 5,\n",
    "                'impact': 'Glycemic control',\n",
    "                'impact_weight': 5 if diff >= 1.5 else 4,\n",
    "                'expected_cost_delta': 460 if diff >= 1.5 else 320,\n",
    "                'expected_readmission_delta': 0.9 if diff >= 1.5 else 0.6,\n",
    "                'confidence': 0.72,\n",
    "            })\n",
    "\n",
    "        if latest_ldl is not None and latest_ldl['value'] > cardio_guidelines['ldl_target']:\n",
    "            gaps.append(f\"LDL {latest_ldl['value']} mg/dL (>{cardio_guidelines['ldl_target']})\")\n",
    "            actions.append({\n",
    "                'title': 'Optimize statin therapy and lifestyle coaching',\n",
    "                'owner': 'Clinical Pharmacist',\n",
    "                'owner_name': self._owner_name('Clinical Pharmacist'),\n",
    "                'due_in_days': 14,\n",
    "                'impact': 'Cardiovascular risk',\n",
    "                'impact_weight': 3,\n",
    "                'expected_cost_delta': 210,\n",
    "                'expected_readmission_delta': 0.3,\n",
    "                'confidence': 0.65,\n",
    "            })\n",
    "\n",
    "        if latest_egfr is not None and latest_egfr['value'] < 60:\n",
    "            gaps.append(f\"eGFR {latest_egfr['value']} mL/min (possible CKD progression)\")\n",
    "            provider = self._provider_by_specialty('Nephrology')\n",
    "            title = 'Coordinate nephrology consult'\n",
    "            if provider is not None:\n",
    "                title = f\"Coordinate nephrology consult with {provider['name']}\"\n",
    "            actions.append(build_action(title, 'Clinical Nurse Lead', 14, 4, 380, 0.5, 0.68))\n",
    "\n",
    "        ed_visits = self._recent_ed_visits(patient['patient_id'], days=60)\n",
    "        if ed_visits:\n",
    "            gaps.append('Recent emergency department utilization')\n",
    "            actions.append({\n",
    "                'title': 'Launch 30-day transitional care protocol',\n",
    "                'owner': 'Clinical Nurse Lead',\n",
    "                'owner_name': self._owner_name('Clinical Nurse Lead'),\n",
    "                'due_in_days': 2,\n",
    "                'impact': 'Transition of care',\n",
    "                'impact_weight': 4,\n",
    "                'expected_cost_delta': 410,\n",
    "                'expected_readmission_delta': 1.1,\n",
    "                'confidence': 0.7,\n",
    "            })\n",
    "\n",
    "        summary = f\"Identified {len(gaps)} care gaps\" if gaps else 'No guideline gaps detected'\n",
    "        return {\n",
    "            'agent': self.agent_labels['care'],\n",
    "            'summary': summary,\n",
    "            'insights': insights,\n",
    "            'gaps': gaps,\n",
    "            'actions': actions,\n",
    "        }\n",
    "\n",
    "    def _benefits_agent(self, patient: pd.Series) -> Dict[str, Any]:\n",
    "        plan = self.plan_lookup.loc[patient['plan_id']]\n",
    "        benefits = self.benefits_lookup.loc[patient['patient_id']]\n",
    "        meds = self.meds_lookup.get(patient['patient_id'], pd.DataFrame())\n",
    "        insights = [\n",
    "            f\"Plan: {plan['plan_name']} ({plan['type']})\",\n",
    "            f\"Deductible remaining: ${benefits['deductible_remaining']}\",\n",
    "            f\"Pharmacy alignment: {benefits['pharmacy_alignment']}\",\n",
    "        ]\n",
    "        actions: List[Dict[str, Any]] = []\n",
    "        high_cost_meds = meds[meds['monthly_cost'] > 400]\n",
    "        for _, med in high_cost_meds.iterrows():\n",
    "            actions.append({\n",
    "                'title': f\"Optimize coverage for {med['medication']}\",\n",
    "                'owner': 'Care Navigator',\n",
    "                'owner_name': self._owner_name('Care Navigator'),\n",
    "                'due_in_days': 3,\n",
    "                'impact': 'Benefit optimization',\n",
    "                'impact_weight': 3 if not med['requires_prior_auth'] else 4,\n",
    "                'expected_cost_delta': 350 if med['requires_prior_auth'] else 210,\n",
    "                'expected_readmission_delta': 0.3,\n",
    "                'confidence': 0.6,\n",
    "            })\n",
    "        if benefits['pharmacy_alignment'] == 'Out-of-network':\n",
    "            actions.append({\n",
    "                'title': 'Switch to in-network pharmacy for lower copay',\n",
    "                'owner': 'Care Navigator',\n",
    "                'owner_name': self._owner_name('Care Navigator'),\n",
    "                'due_in_days': 6,\n",
    "                'impact': 'Benefit optimization',\n",
    "                'impact_weight': 3,\n",
    "                'expected_cost_delta': 190,\n",
    "                'expected_readmission_delta': 0.2,\n",
    "                'confidence': 0.55,\n",
    "            })\n",
    "        if benefits['deductible_remaining'] > 0 and plan['type'] == 'Commercial':\n",
    "            actions.append({\n",
    "                'title': 'Enroll patient in manufacturer copay assistance',\n",
    "                'owner': 'Care Navigator',\n",
    "                'owner_name': self._owner_name('Care Navigator'),\n",
    "                'due_in_days': 10,\n",
    "                'impact': 'Out-of-pocket relief',\n",
    "                'impact_weight': 2,\n",
    "                'expected_cost_delta': 160,\n",
    "                'expected_readmission_delta': 0.1,\n",
    "                'confidence': 0.5,\n",
    "            })\n",
    "        summary = f\"{len(actions)} benefit optimization opportunity(ies)\" if actions else 'Coverage already optimized'\n",
    "        return {\n",
    "            'agent': self.agent_labels['benefits'],\n",
    "            'summary': summary,\n",
    "            'insights': insights,\n",
    "            'actions': actions,\n",
    "        }\n",
    "\n",
    "    def _engagement_agent(self, patient: pd.Series) -> Dict[str, Any]:\n",
    "        sdoh = self.sdoh_lookup.loc[patient['patient_id']]\n",
    "        barriers: List[str] = []\n",
    "        actions: List[Dict[str, Any]] = []\n",
    "        insights = [\n",
    "            f\"Preferred outreach: {sdoh['preferred_channel']}\",\n",
    "            f\"Digital literacy score: {sdoh['digital_literacy_score']:.2f}\",\n",
    "            f\"Transport score: {sdoh['transport_score']:.2f}\",\n",
    "        ]\n",
    "        if sdoh['transport_score'] < 0.5:\n",
    "            barriers.append('Transportation challenges')\n",
    "            actions.append({\n",
    "                'title': 'Offer virtual or home-visit care pathway',\n",
    "                'owner': 'Care Navigator',\n",
    "                'owner_name': self._owner_name('Care Navigator'),\n",
    "                'due_in_days': 4,\n",
    "                'impact': 'Barrier removal',\n",
    "                'impact_weight': 3,\n",
    "                'expected_cost_delta': 140,\n",
    "                'expected_readmission_delta': 0.3,\n",
    "                'confidence': 0.6,\n",
    "            })\n",
    "        if sdoh['food_access'] == 'Limited':\n",
    "            barriers.append('Food insecurity risk')\n",
    "            actions.append({\n",
    "                'title': 'Enroll in healthy food delivery/community program',\n",
    "                'owner': 'Care Navigator',\n",
    "                'owner_name': self._owner_name('Care Navigator'),\n",
    "                'due_in_days': 14,\n",
    "                'impact': 'SDOH support',\n",
    "                'impact_weight': 2,\n",
    "                'expected_cost_delta': 120,\n",
    "                'expected_readmission_delta': 0.2,\n",
    "                'confidence': 0.55,\n",
    "            })\n",
    "        if patient['med_adherence'] < self.guidelines['adherence_threshold']:\n",
    "            barriers.append('Medication adherence risk')\n",
    "            actions.append({\n",
    "                'title': 'Set up digital reminders and pharmacy sync',\n",
    "                'owner': 'Clinical Pharmacist',\n",
    "                'owner_name': self._owner_name('Clinical Pharmacist'),\n",
    "                'due_in_days': 3,\n",
    "                'impact': 'Adherence support',\n",
    "                'impact_weight': 4,\n",
    "                'expected_cost_delta': 260,\n",
    "                'expected_readmission_delta': 0.6,\n",
    "                'confidence': 0.7,\n",
    "            })\n",
    "        if patient['behavioral_health_flag']:\n",
    "            barriers.append('Behavioral health support needed')\n",
    "            actions.append({\n",
    "                'title': 'Coordinate motivational interviewing sessions',\n",
    "                'owner': 'Care Navigator',\n",
    "                'owner_name': self._owner_name('Care Navigator'),\n",
    "                'due_in_days': 7,\n",
    "                'impact': 'Behavioral support',\n",
    "                'impact_weight': 3,\n",
    "                'expected_cost_delta': 150,\n",
    "                'expected_readmission_delta': 0.3,\n",
    "                'confidence': 0.6,\n",
    "            })\n",
    "        summary = f\"{len(barriers)} engagement barrier(s) tracked\" if barriers else 'No major engagement barriers detected'\n",
    "        return {\n",
    "            'agent': self.agent_labels['engagement'],\n",
    "            'summary': summary,\n",
    "            'barriers': barriers,\n",
    "            'insights': insights,\n",
    "            'actions': actions,\n",
    "        }\n",
    "\n",
    "    # ------------------------------------------------------------------\n",
    "    # Care-plan synthesis\n",
    "    # ------------------------------------------------------------------\n",
    "    def _derive_primary_goal(self, patient: pd.Series, agent_outputs: Dict[str, Dict[str, Any]]) -> str:\n",
    "        if patient['risk_level'] == 'Critical' or patient['a1c_latest'] >= self.guidelines['diabetes']['a1c_target'] + 1.5:\n",
    "            return 'Stabilize glycemic control'\n",
    "        care_output = agent_outputs.get(self.agent_labels['care'])\n",
    "        if care_output and care_output.get('gaps'):\n",
    "            return 'Close high-value care gaps'\n",
    "        if patient['med_adherence'] < self.guidelines['adherence_threshold']:\n",
    "            return 'Improve therapy adherence'\n",
    "        engagement_output = agent_outputs.get(self.agent_labels['engagement'])\n",
    "        if engagement_output and engagement_output.get('barriers'):\n",
    "            return 'Resolve engagement barriers'\n",
    "        return 'Maintain momentum with quarterly check-ins'\n",
    "\n",
    "    def _prioritize_actions(self, actions: List[Dict[str, Any]]) -> List[Dict[str, Any]]:\n",
    "        consolidated: Dict[str, Dict[str, Any]] = {}\n",
    "        for action in actions:\n",
    "            key = action['title']\n",
    "            entry = consolidated.get(key)\n",
    "            if entry:\n",
    "                entry['source_agents'].append(action['source_agent'])\n",
    "                entry['impact_weight'] = max(entry.get('impact_weight', 1), action.get('impact_weight', 1))\n",
    "                entry['expected_cost_delta'] = max(entry.get('expected_cost_delta', 0), action.get('expected_cost_delta', 0))\n",
    "                entry['expected_readmission_delta'] = max(entry.get('expected_readmission_delta', 0.0), action.get('expected_readmission_delta', 0.0))\n",
    "                entry['confidence'] = round((entry.get('confidence', 0.6) + action.get('confidence', 0.6)) / 2, 2)\n",
    "            else:\n",
    "                new_action = action.copy()\n",
    "                new_action['source_agents'] = [new_action.pop('source_agent')]\n",
    "                consolidated[key] = new_action\n",
    "        prioritized = sorted(\n",
    "            consolidated.values(),\n",
    "            key=lambda a: (a.get('impact_weight', 1), a.get('expected_cost_delta', 0)),\n",
    "            reverse=True,\n",
    "        )\n",
    "        for idx, action in enumerate(prioritized, start=1):\n",
    "            action['priority_rank'] = idx\n",
    "        return prioritized\n",
    "\n",
    "    def _synthesize_care_plan(self, patient: pd.Series, agent_outputs: Dict[str, Dict[str, Any]]) -> Dict[str, Any]:\n",
    "        staged_actions: List[Dict[str, Any]] = []\n",
    "        for agent_output in agent_outputs.values():\n",
    "            for action in agent_output['actions']:\n",
    "                copy_action = action.copy()\n",
    "                copy_action['source_agent'] = agent_output['agent']\n",
    "                staged_actions.append(copy_action)\n",
    "        prioritized = self._prioritize_actions(staged_actions) if staged_actions else []\n",
    "        top_actions = prioritized[:6]\n",
    "        backlog = prioritized[6:]\n",
    "        expected_cost_delta = sum(a.get('expected_cost_delta', 0) for a in top_actions)\n",
    "        expected_readmission_delta = sum(a.get('expected_readmission_delta', 0.0) for a in top_actions)\n",
    "        confidence = np.mean([a.get('confidence', 0.7) for a in top_actions]) if top_actions else 0.0\n",
    "        primary_goal = self._derive_primary_goal(patient, agent_outputs)\n",
    "        summary = (\n",
    "            f\"Focus on {primary_goal.lower()} with {len(top_actions)} immediate interventions. \"\n",
    "            f\"Projected cost impact ${expected_cost_delta:,.0f} and {expected_readmission_delta:.1f}pp readmission reduction.\"\n",
    "        )\n",
    "        priority_score = sum(a.get('impact_weight', 1) for a in top_actions)\n",
    "        return {\n",
    "            'primary_goal': primary_goal,\n",
    "            'summary': summary,\n",
    "            'actions': top_actions,\n",
    "            'backlog': backlog,\n",
    "            'expected_cost_delta': round(expected_cost_delta, 2),\n",
    "            'expected_readmission_delta': round(expected_readmission_delta, 2),\n",
    "            'confidence': round(confidence, 2),\n",
    "            'monitoring_cadence_days': 7 if patient['risk_level'] in {'High', 'Critical'} else 14,\n",
    "            'priority_score': priority_score,\n",
    "        }\n",
    "\n",
    "    # ------------------------------------------------------------------\n",
    "    # Public API\n",
    "    # ------------------------------------------------------------------\n",
    "    def analyze_patient_with_agents(self, patient: pd.Series) -> Dict[str, Any]:\n",
    "        risk_handler = self.custom_handlers.get(self.agent_labels['risk'], self._risk_agent)\n",
    "        care_handler = self.custom_handlers.get(self.agent_labels['care'], self._care_gap_agent)\n",
    "        benefits_handler = self.custom_handlers.get(self.agent_labels['benefits'], self._benefits_agent)\n",
    "        engagement_handler = self.custom_handlers.get(self.agent_labels['engagement'], self._engagement_agent)\n",
    "\n",
    "        risk_output = self._invoke_handler(risk_handler, patient)\n",
    "        care_output = self._invoke_handler(care_handler, patient)\n",
    "        benefits_output = self._invoke_handler(benefits_handler, patient)\n",
    "        engagement_output = self._invoke_handler(engagement_handler, patient)\n",
    "\n",
    "        agent_outputs = {\n",
    "            risk_output['agent']: risk_output,\n",
    "            care_output['agent']: care_output,\n",
    "            benefits_output['agent']: benefits_output,\n",
    "            engagement_output['agent']: engagement_output,\n",
    "        }\n",
    "        care_plan = self._synthesize_care_plan(patient, agent_outputs)\n",
    "        patient_meta = {\n",
    "            'patient_id': patient['patient_id'],\n",
    "            'age': int(patient['age']),\n",
    "            'risk_level': patient['risk_level'],\n",
    "            'a1c_latest': float(patient['a1c_latest']),\n",
    "            'insurance_type': patient['insurance_type'],\n",
    "            'preferred_channel': self.sdoh_lookup.loc[patient['patient_id']]['preferred_channel'],\n",
    "        }\n",
    "        return {\n",
    "            'patient': patient_meta,\n",
    "            'agent_outputs': agent_outputs,\n",
    "            'care_plan': care_plan,\n",
    "        }\n",
    "\n",
    "    def _simulate_learning_curve(self, readmission_impacts: List[float], population_size: int) -> Dict[str, List[float]]:\n",
    "        months = list(range(1, 13))\n",
    "        baseline = 18.0\n",
    "        avg_impact = np.mean(readmission_impacts) if readmission_impacts else 0.4\n",
    "        avg_impact = min(max(avg_impact, 0.3), 1.4)\n",
    "        readmissions = []\n",
    "        current = baseline\n",
    "        for month in months:\n",
    "            improvement = avg_impact * (1 + 0.05 * month)\n",
    "            current = max(current - improvement, 7.5)\n",
    "            readmissions.append(round(current, 2))\n",
    "        care_gap_resolution = [round(min(12 + month * (avg_impact * 4), 92), 1) for month in months]\n",
    "        return {'months': months, 'readmissions': readmissions, 'care_gap_resolution': care_gap_resolution}\n",
    "\n",
    "    def _select_showcase_cases(self, plans: List[Dict[str, Any]]) -> List[Dict[str, Any]]:\n",
    "        spotlight = []\n",
    "        for plan in plans:\n",
    "            top_actions = plan['care_plan']['actions'][:3]\n",
    "            spotlight.append({\n",
    "                'patient_id': plan['patient']['patient_id'],\n",
    "                'risk_level': plan['patient']['risk_level'],\n",
    "                'a1c_latest': plan['patient']['a1c_latest'],\n",
    "                'primary_goal': plan['care_plan']['primary_goal'],\n",
    "                'expected_cost_delta': plan['care_plan']['expected_cost_delta'],\n",
    "                'expected_readmission_delta': plan['care_plan']['expected_readmission_delta'],\n",
    "                'top_actions': [\n",
    "                    {\n",
    "                        'title': action['title'],\n",
    "                        'owner': action['owner'],\n",
    "                        'owner_name': action['owner_name'],\n",
    "                        'due_in_days': action['due_in_days'],\n",
    "                    }\n",
    "                    for action in top_actions\n",
    "                ],\n",
    "            })\n",
    "        spotlight = sorted(\n",
    "            spotlight,\n",
    "            key=lambda p: (\n",
    "                0 if p['risk_level'] == 'Critical' else 1 if p['risk_level'] == 'High' else 2,\n",
    "                -p['expected_cost_delta']\n",
    "            ),\n",
    "        )\n",
    "        return spotlight[:5]\n",
    "\n",
    "    def process_patient_cohort(self, patient_data: pd.DataFrame) -> Dict[str, Any]:\n",
    "        plans: List[Dict[str, Any]] = []\n",
    "        care_gap_total = 0\n",
    "        action_total = 0\n",
    "        cost_savings = 0.0\n",
    "        readmission_impacts: List[float] = []\n",
    "        high_risk_ids: List[str] = []\n",
    "        agent_action_counts = {label: 0 for label in self.agent_labels.values()}\n",
    "\n",
    "        for _, patient in patient_data.iterrows():\n",
    "            plan = self.analyze_patient_with_agents(patient)\n",
    "            plans.append(plan)\n",
    "            care_gap_total += len(plan['agent_outputs'][self.agent_labels['care']].get('gaps', []))\n",
    "            action_total += len(plan['care_plan']['actions'])\n",
    "            cost_savings += plan['care_plan']['expected_cost_delta']\n",
    "            readmission_impacts.append(plan['care_plan']['expected_readmission_delta'])\n",
    "            for agent_label, output in plan['agent_outputs'].items():\n",
    "                agent_action_counts[agent_label] += len(output['actions'])\n",
    "            if patient['risk_level'] in {'High', 'Critical'}:\n",
    "                high_risk_ids.append(patient['patient_id'])\n",
    "\n",
    "        learning_curve = self._simulate_learning_curve(readmission_impacts, len(patient_data))\n",
    "        results = {\n",
    "            'patients_processed': int(len(patient_data)),\n",
    "            'high_risk_identified': len(high_risk_ids),\n",
    "            'care_gaps_found': int(care_gap_total),\n",
    "            'interventions_recommended': int(action_total),\n",
    "            'estimated_cost_savings': int(cost_savings),\n",
    "            'time_points': learning_curve['months'],\n",
    "            'readmission_rates': learning_curve['readmissions'],\n",
    "            'care_gap_resolution': learning_curve['care_gap_resolution'],\n",
    "            'agent_action_counts': agent_action_counts,\n",
    "            'patient_spotlight': self._select_showcase_cases(plans),\n",
    "        }\n",
    "        self.last_run = results\n",
    "        return results"
   ]
  },
  {
   "cell_type": "markdown",
   "id": "3ac1a4bc",
   "metadata": {},
   "source": [
    "**Act 2 flow:** risk stratification → care-gap detection → benefits optimization → engagement strategy. Each agent returns structured actions that the orchestrator prioritizes for the three-person human pod.\n"
   ]
  },
  {
   "cell_type": "markdown",
   "id": "1a202a30",
   "metadata": {
    "id": "1a202a30"
   },
   "source": [
    "### **Agents workflow**"
   ]
  },
  {
   "cell_type": "code",
   "execution_count": 16,
   "id": "c40058e7",
   "metadata": {
    "id": "c40058e7",
    "outputId": "12046034-49f5-4983-e82b-75136680f9e2"
   },
   "outputs": [
    {
     "name": "stdout",
     "output_type": "stream",
     "text": [
      "📊 Cohort size: 120 patients\n",
      "   • High/Critical risk: 57\n",
      "   • Average A1C: 8.2%\n",
      "   • Average SVI: 0.61\n",
      "   • ER visits (last 90 days): 36\n",
      "Care program team (3 humans, many digital agents):\n"
     ]
    },
    {
     "data": {
      "text/html": [
       "<div>\n",
       "<style scoped>\n",
       "    .dataframe tbody tr th:only-of-type {\n",
       "        vertical-align: middle;\n",
       "    }\n",
       "\n",
       "    .dataframe tbody tr th {\n",
       "        vertical-align: top;\n",
       "    }\n",
       "\n",
       "    .dataframe thead th {\n",
       "        text-align: right;\n",
       "    }\n",
       "</style>\n",
       "<table border=\"1\" class=\"dataframe\">\n",
       "  <thead>\n",
       "    <tr style=\"text-align: right;\">\n",
       "      <th></th>\n",
       "      <th>name</th>\n",
       "      <th>role</th>\n",
       "      <th>focus</th>\n",
       "      <th>panel_capacity</th>\n",
       "    </tr>\n",
       "  </thead>\n",
       "  <tbody>\n",
       "    <tr>\n",
       "      <th>0</th>\n",
       "      <td>Jordan Rivera</td>\n",
       "      <td>Clinical Nurse Lead</td>\n",
       "      <td>Risk stratification &amp; clinical escalations</td>\n",
       "      <td>45</td>\n",
       "    </tr>\n",
       "    <tr>\n",
       "      <th>1</th>\n",
       "      <td>Taylor Evans</td>\n",
       "      <td>Care Navigator</td>\n",
       "      <td>Benefits, SDOH, and referrals</td>\n",
       "      <td>60</td>\n",
       "    </tr>\n",
       "    <tr>\n",
       "      <th>2</th>\n",
       "      <td>Morgan Chen</td>\n",
       "      <td>Clinical Pharmacist</td>\n",
       "      <td>Medication optimization &amp; adherence</td>\n",
       "      <td>55</td>\n",
       "    </tr>\n",
       "  </tbody>\n",
       "</table>\n",
       "</div>"
      ],
      "text/plain": [
       "            name                 role  \\\n",
       "0  Jordan Rivera  Clinical Nurse Lead   \n",
       "1   Taylor Evans       Care Navigator   \n",
       "2    Morgan Chen  Clinical Pharmacist   \n",
       "\n",
       "                                        focus  panel_capacity  \n",
       "0  Risk stratification & clinical escalations              45  \n",
       "1               Benefits, SDOH, and referrals              60  \n",
       "2         Medication optimization & adherence              55  "
      ]
     },
     "metadata": {},
     "output_type": "display_data"
    }
   ],
   "source": [
    "# Cell 1: Setup and Data Loading\n",
    "import plotly.graph_objects as go\n",
    "import plotly.express as px\n",
    "\n",
    "cohort = synthetic_data.patients\n",
    "sdoh_df = synthetic_data.sdoh\n",
    "encounters_df = synthetic_data.encounters\n",
    "\n",
    "print(f\"📊 Cohort size: {len(cohort)} patients\")\n",
    "print(f\"   • High/Critical risk: {(cohort.risk_level.isin(['High', 'Critical'])).sum()}\")\n",
    "print(f\"   • Average A1C: {cohort['a1c_latest'].mean():.1f}%\")\n",
    "print(f\"   • Average SVI: {sdoh_df['social_vulnerability_index'].mean():.2f}\")\n",
    "recent_window_start = pd.Timestamp.today().normalize() - pd.Timedelta(days=90)\n",
    "er_visits_90d = encounters_df[(encounters_df['encounter_type'] == 'Emergency Department') & (encounters_df['encounter_date'] >= recent_window_start)]\n",
    "print(f\"   • ER visits (last 90 days): {len(er_visits_90d)}\")\n",
    "\n",
    "print(\"Care program team (3 humans, many digital agents):\")\n",
    "display(synthetic_data.care_team)"
   ]
  },
  {
   "cell_type": "code",
   "execution_count": 17,
   "id": "6dfb4b53",
   "metadata": {
    "id": "6dfb4b53",
    "outputId": "f59fc023-20b0-495c-a556-a9c24cf2f9b3"
   },
   "outputs": [
    {
     "name": "stdout",
     "output_type": "stream",
     "text": [
      "✅ Patient Journey Orchestrator ready\n",
      "Active digital specialists:\n",
      " - Risk Stratification Specialist\n",
      " - Care Gap Analyst\n",
      " - Benefits Navigator\n",
      " - Engagement Strategist\n"
     ]
    }
   ],
   "source": [
    "# Cell 2: Initialize Orchestrator (Show Simplicity)\n",
    "orchestrator = PatientJourneyOrchestrator(data_bundle=synthetic_data, swarm_client=swarm_client)\n",
    "print(\"✅ Patient Journey Orchestrator ready\")\n",
    "print(\"Active digital specialists:\")\n",
    "for label in orchestrator.agent_labels.values():\n",
    "    print(f\" - {label}\")"
   ]
  },
  {
   "cell_type": "code",
   "execution_count": 19,
   "id": "ca327c5b",
   "metadata": {
    "id": "ca327c5b",
    "outputId": "ed60ac73-5450-401f-d930-7b48b41aa772"
   },
   "outputs": [
    {
     "name": "stdout",
     "output_type": "stream",
     "text": [
      "✅ Simple lookups stay simple — no agent orchestration required\n",
      "Targets → HbA1c: <7.0%, BP: <130/80 mmHg, LDL: <100 mg/dL\n",
      "💡 Use direct functions for:\n",
      "- Static clinical targets\n",
      "- Quick eligibility checks\n",
      "- Single data point retrieval\n"
     ]
    }
   ],
   "source": [
    "# Cell 3: Demonstrate \"Don't Agent Everything\" Principle\n",
    "def get_guideline_targets(guidelines: dict) -> str:\n",
    "    diabetes = guidelines['diabetes']\n",
    "    cardio = guidelines['cardiometabolic']\n",
    "    return (\n",
    "        f\"Targets → HbA1c: <{diabetes['a1c_target']}%, BP: <{cardio['bp_systolic_target']}/{cardio['bp_diastolic_target']} mmHg, \"\n",
    "        f\"LDL: <{cardio['ldl_target']} mg/dL\"\n",
    "    )\n",
    "\n",
    "simple_answer = get_guideline_targets(synthetic_data.guidelines)\n",
    "print(\"✅ Simple lookups stay simple — no agent orchestration required\")\n",
    "print(simple_answer)\n",
    "\n",
    "print(\"💡 Use direct functions for:\")\n",
    "print(\"- Static clinical targets\")\n",
    "print(\"- Quick eligibility checks\")\n",
    "print(\"- Single data point retrieval\")"
   ]
  },
  {
   "cell_type": "code",
   "execution_count": 23,
   "id": "c38a7e20",
   "metadata": {
    "id": "c38a7e20",
    "outputId": "c1a01b76-6e22-40fd-9fbd-257ab0fc36c6"
   },
   "outputs": [
    {
     "name": "stdout",
     "output_type": "stream",
     "text": [
      "🚀 Running multi-agent orchestration across the cohort...\n",
      "📈 Orchestration Results:\n",
      "- Patients processed: 120\n",
      "- High-risk patients identified: 57\n",
      "- Care gaps flagged: 296\n",
      "- Interventions recommended: 639\n",
      "- Estimated annualized cost impact: $182,340\n",
      "🎯 Spotlight patients (top 5 by impact):\n"
     ]
    },
    {
     "data": {
      "text/html": [
       "<div>\n",
       "<style scoped>\n",
       "    .dataframe tbody tr th:only-of-type {\n",
       "        vertical-align: middle;\n",
       "    }\n",
       "\n",
       "    .dataframe tbody tr th {\n",
       "        vertical-align: top;\n",
       "    }\n",
       "\n",
       "    .dataframe thead th {\n",
       "        text-align: right;\n",
       "    }\n",
       "</style>\n",
       "<table border=\"1\" class=\"dataframe\">\n",
       "  <thead>\n",
       "    <tr style=\"text-align: right;\">\n",
       "      <th></th>\n",
       "      <th>patient_id</th>\n",
       "      <th>risk_level</th>\n",
       "      <th>a1c_latest</th>\n",
       "      <th>primary_goal</th>\n",
       "      <th>expected_cost_delta</th>\n",
       "      <th>expected_readmission_delta</th>\n",
       "    </tr>\n",
       "  </thead>\n",
       "  <tbody>\n",
       "    <tr>\n",
       "      <th>0</th>\n",
       "      <td>PT-0077</td>\n",
       "      <td>Critical</td>\n",
       "      <td>9.5</td>\n",
       "      <td>Stabilize glycemic control</td>\n",
       "      <td>2340</td>\n",
       "      <td>4.0</td>\n",
       "    </tr>\n",
       "    <tr>\n",
       "      <th>1</th>\n",
       "      <td>PT-0023</td>\n",
       "      <td>Critical</td>\n",
       "      <td>11.2</td>\n",
       "      <td>Stabilize glycemic control</td>\n",
       "      <td>2210</td>\n",
       "      <td>4.7</td>\n",
       "    </tr>\n",
       "    <tr>\n",
       "      <th>2</th>\n",
       "      <td>PT-0060</td>\n",
       "      <td>Critical</td>\n",
       "      <td>10.2</td>\n",
       "      <td>Stabilize glycemic control</td>\n",
       "      <td>2140</td>\n",
       "      <td>5.0</td>\n",
       "    </tr>\n",
       "    <tr>\n",
       "      <th>3</th>\n",
       "      <td>PT-0012</td>\n",
       "      <td>Critical</td>\n",
       "      <td>7.9</td>\n",
       "      <td>Stabilize glycemic control</td>\n",
       "      <td>2110</td>\n",
       "      <td>4.0</td>\n",
       "    </tr>\n",
       "    <tr>\n",
       "      <th>4</th>\n",
       "      <td>PT-0086</td>\n",
       "      <td>Critical</td>\n",
       "      <td>8.2</td>\n",
       "      <td>Stabilize glycemic control</td>\n",
       "      <td>2080</td>\n",
       "      <td>4.2</td>\n",
       "    </tr>\n",
       "  </tbody>\n",
       "</table>\n",
       "</div>"
      ],
      "text/plain": [
       "  patient_id risk_level  a1c_latest                primary_goal  \\\n",
       "0    PT-0077   Critical         9.5  Stabilize glycemic control   \n",
       "1    PT-0023   Critical        11.2  Stabilize glycemic control   \n",
       "2    PT-0060   Critical        10.2  Stabilize glycemic control   \n",
       "3    PT-0012   Critical         7.9  Stabilize glycemic control   \n",
       "4    PT-0086   Critical         8.2  Stabilize glycemic control   \n",
       "\n",
       "   expected_cost_delta  expected_readmission_delta  \n",
       "0                 2340                         4.0  \n",
       "1                 2210                         4.7  \n",
       "2                 2140                         5.0  \n",
       "3                 2110                         4.0  \n",
       "4                 2080                         4.2  "
      ]
     },
     "metadata": {},
     "output_type": "display_data"
    },
    {
     "name": "stdout",
     "output_type": "stream",
     "text": [
      "🔍 Deep dive: Patient PT-0022 | Risk: Critical | A1C: 9.4%\n",
      "[Risk Stratification Specialist] Critical risk (score 8). A1C 9.4%, adherence 46%. SVI 0.78 with limited food access.\n",
      "  → Add to daily high-risk clinical standup (owner: Jordan Rivera, due in 1 days)\n",
      "  → Book urgent PCP or endocrinology follow-up (owner: Jordan Rivera, due in 5 days)\n",
      "[Care Gap Analyst] Identified 2 care gaps\n",
      "  → Schedule retinal exam with Metro Retina Associates (owner: Taylor Evans, due in 7 days)\n",
      "  → Run medication escalation case review (owner: Morgan Chen, due in 5 days)\n",
      "[Benefits Navigator] Coverage already optimized\n",
      "[Engagement Strategist] 4 engagement barrier(s) tracked\n",
      "  → Offer virtual or home-visit care pathway (owner: Taylor Evans, due in 4 days)\n",
      "  → Enroll in healthy food delivery/community program (owner: Taylor Evans, due in 14 days)\n",
      "🧭 Synthesized care plan: Focus on stabilize glycemic control with 6 immediate interventions. Projected cost impact $1,910 and 4.3pp readmission reduction.\n",
      "  #1 Add to daily high-risk clinical standup — Jordan Rivera | Impact weight 5\n",
      "  #2 Run medication escalation case review — Morgan Chen | Impact weight 5\n",
      "  #3 Book urgent PCP or endocrinology follow-up — Jordan Rivera | Impact weight 4\n",
      "  #4 Set up digital reminders and pharmacy sync — Morgan Chen | Impact weight 4\n"
     ]
    }
   ],
   "source": [
    "# Cell 4: Complex Orchestration for Real Value\n",
    "print(\"🚀 Running multi-agent orchestration across the cohort...\")\n",
    "results = orchestrator.process_patient_cohort(cohort)\n",
    "\n",
    "print(f\"📈 Orchestration Results:\")\n",
    "print(f\"- Patients processed: {results['patients_processed']}\")\n",
    "print(f\"- High-risk patients identified: {results['high_risk_identified']}\")\n",
    "print(f\"- Care gaps flagged: {results['care_gaps_found']}\")\n",
    "print(f\"- Interventions recommended: {results['interventions_recommended']}\")\n",
    "print(f\"- Estimated annualized cost impact: ${results['estimated_cost_savings']:,}\")\n",
    "\n",
    "spotlight_df = pd.DataFrame(results['patient_spotlight'])\n",
    "print(\"🎯 Spotlight patients (top 5 by impact):\")\n",
    "display(spotlight_df[['patient_id', 'risk_level', 'a1c_latest', 'primary_goal', 'expected_cost_delta', 'expected_readmission_delta']])\n",
    "\n",
    "# Deep dive on the highest-risk patient to show agent collaboration\n",
    "top_patient = cohort.sort_values('risk_points', ascending=False).iloc[0]\n",
    "top_plan = orchestrator.analyze_patient_with_agents(top_patient)\n",
    "meta = top_plan['patient']\n",
    "print(f\"🔍 Deep dive: Patient {meta['patient_id']} | Risk: {meta['risk_level']} | A1C: {meta['a1c_latest']}%\")\n",
    "\n",
    "for agent_name, output in top_plan['agent_outputs'].items():\n",
    "    print(f\"[{agent_name}] {output['summary']}\")\n",
    "    for action in output['actions'][:2]:\n",
    "        print(f\"  → {action['title']} (owner: {action['owner_name']}, due in {action['due_in_days']} days)\")\n",
    "\n",
    "print(f\"🧭 Synthesized care plan: {top_plan['care_plan']['summary']}\")\n",
    "for action in top_plan['care_plan']['actions'][:4]:\n",
    "    print(f\"  #{action['priority_rank']} {action['title']} — {action['owner_name']} | Impact weight {action['impact_weight']}\")"
   ]
  },
  {
   "cell_type": "code",
   "execution_count": 24,
   "id": "bb32257e",
   "metadata": {
    "id": "bb32257e",
    "outputId": "76efefde-4fe9-4473-cf5d-b19384b72318"
   },
   "outputs": [
    {
     "data": {
      "application/vnd.plotly.v1+json": {
       "config": {
        "plotlyServerURL": "https://plot.ly"
       },
       "data": [
        {
         "line": {
          "color": "red",
          "width": 3
         },
         "marker": {
          "size": 8
         },
         "mode": "lines+markers",
         "name": "Modeled readmission trend",
         "type": "scatter",
         "x": [
          1,
          2,
          3,
          4,
          5,
          6,
          7,
          8,
          9,
          10,
          11,
          12
         ],
         "y": [
          16.53,
          14.99,
          13.38,
          11.7,
          9.95,
          8.13,
          7.5,
          7.5,
          7.5,
          7.5,
          7.5,
          7.5
         ]
        },
        {
         "line": {
          "color": "gray",
          "dash": "dash"
         },
         "mode": "lines",
         "name": "Baseline (no orchestration)",
         "type": "scatter",
         "x": [
          1,
          2,
          3,
          4,
          5,
          6,
          7,
          8,
          9,
          10,
          11,
          12
         ],
         "y": [
          18,
          18,
          18,
          18,
          18,
          18,
          18,
          18,
          18,
          18,
          18,
          18
         ]
        }
       ],
       "layout": {
        "hovermode": "x unified",
        "template": {
         "data": {
          "bar": [
           {
            "error_x": {
             "color": "#2a3f5f"
            },
            "error_y": {
             "color": "#2a3f5f"
            },
            "marker": {
             "line": {
              "color": "white",
              "width": 0.5
             },
             "pattern": {
              "fillmode": "overlay",
              "size": 10,
              "solidity": 0.2
             }
            },
            "type": "bar"
           }
          ],
          "barpolar": [
           {
            "marker": {
             "line": {
              "color": "white",
              "width": 0.5
             },
             "pattern": {
              "fillmode": "overlay",
              "size": 10,
              "solidity": 0.2
             }
            },
            "type": "barpolar"
           }
          ],
          "carpet": [
           {
            "aaxis": {
             "endlinecolor": "#2a3f5f",
             "gridcolor": "#C8D4E3",
             "linecolor": "#C8D4E3",
             "minorgridcolor": "#C8D4E3",
             "startlinecolor": "#2a3f5f"
            },
            "baxis": {
             "endlinecolor": "#2a3f5f",
             "gridcolor": "#C8D4E3",
             "linecolor": "#C8D4E3",
             "minorgridcolor": "#C8D4E3",
             "startlinecolor": "#2a3f5f"
            },
            "type": "carpet"
           }
          ],
          "choropleth": [
           {
            "colorbar": {
             "outlinewidth": 0,
             "ticks": ""
            },
            "type": "choropleth"
           }
          ],
          "contour": [
           {
            "colorbar": {
             "outlinewidth": 0,
             "ticks": ""
            },
            "colorscale": [
             [
              0,
              "#0d0887"
             ],
             [
              0.1111111111111111,
              "#46039f"
             ],
             [
              0.2222222222222222,
              "#7201a8"
             ],
             [
              0.3333333333333333,
              "#9c179e"
             ],
             [
              0.4444444444444444,
              "#bd3786"
             ],
             [
              0.5555555555555556,
              "#d8576b"
             ],
             [
              0.6666666666666666,
              "#ed7953"
             ],
             [
              0.7777777777777778,
              "#fb9f3a"
             ],
             [
              0.8888888888888888,
              "#fdca26"
             ],
             [
              1,
              "#f0f921"
             ]
            ],
            "type": "contour"
           }
          ],
          "contourcarpet": [
           {
            "colorbar": {
             "outlinewidth": 0,
             "ticks": ""
            },
            "type": "contourcarpet"
           }
          ],
          "heatmap": [
           {
            "colorbar": {
             "outlinewidth": 0,
             "ticks": ""
            },
            "colorscale": [
             [
              0,
              "#0d0887"
             ],
             [
              0.1111111111111111,
              "#46039f"
             ],
             [
              0.2222222222222222,
              "#7201a8"
             ],
             [
              0.3333333333333333,
              "#9c179e"
             ],
             [
              0.4444444444444444,
              "#bd3786"
             ],
             [
              0.5555555555555556,
              "#d8576b"
             ],
             [
              0.6666666666666666,
              "#ed7953"
             ],
             [
              0.7777777777777778,
              "#fb9f3a"
             ],
             [
              0.8888888888888888,
              "#fdca26"
             ],
             [
              1,
              "#f0f921"
             ]
            ],
            "type": "heatmap"
           }
          ],
          "histogram": [
           {
            "marker": {
             "pattern": {
              "fillmode": "overlay",
              "size": 10,
              "solidity": 0.2
             }
            },
            "type": "histogram"
           }
          ],
          "histogram2d": [
           {
            "colorbar": {
             "outlinewidth": 0,
             "ticks": ""
            },
            "colorscale": [
             [
              0,
              "#0d0887"
             ],
             [
              0.1111111111111111,
              "#46039f"
             ],
             [
              0.2222222222222222,
              "#7201a8"
             ],
             [
              0.3333333333333333,
              "#9c179e"
             ],
             [
              0.4444444444444444,
              "#bd3786"
             ],
             [
              0.5555555555555556,
              "#d8576b"
             ],
             [
              0.6666666666666666,
              "#ed7953"
             ],
             [
              0.7777777777777778,
              "#fb9f3a"
             ],
             [
              0.8888888888888888,
              "#fdca26"
             ],
             [
              1,
              "#f0f921"
             ]
            ],
            "type": "histogram2d"
           }
          ],
          "histogram2dcontour": [
           {
            "colorbar": {
             "outlinewidth": 0,
             "ticks": ""
            },
            "colorscale": [
             [
              0,
              "#0d0887"
             ],
             [
              0.1111111111111111,
              "#46039f"
             ],
             [
              0.2222222222222222,
              "#7201a8"
             ],
             [
              0.3333333333333333,
              "#9c179e"
             ],
             [
              0.4444444444444444,
              "#bd3786"
             ],
             [
              0.5555555555555556,
              "#d8576b"
             ],
             [
              0.6666666666666666,
              "#ed7953"
             ],
             [
              0.7777777777777778,
              "#fb9f3a"
             ],
             [
              0.8888888888888888,
              "#fdca26"
             ],
             [
              1,
              "#f0f921"
             ]
            ],
            "type": "histogram2dcontour"
           }
          ],
          "mesh3d": [
           {
            "colorbar": {
             "outlinewidth": 0,
             "ticks": ""
            },
            "type": "mesh3d"
           }
          ],
          "parcoords": [
           {
            "line": {
             "colorbar": {
              "outlinewidth": 0,
              "ticks": ""
             }
            },
            "type": "parcoords"
           }
          ],
          "pie": [
           {
            "automargin": true,
            "type": "pie"
           }
          ],
          "scatter": [
           {
            "fillpattern": {
             "fillmode": "overlay",
             "size": 10,
             "solidity": 0.2
            },
            "type": "scatter"
           }
          ],
          "scatter3d": [
           {
            "line": {
             "colorbar": {
              "outlinewidth": 0,
              "ticks": ""
             }
            },
            "marker": {
             "colorbar": {
              "outlinewidth": 0,
              "ticks": ""
             }
            },
            "type": "scatter3d"
           }
          ],
          "scattercarpet": [
           {
            "marker": {
             "colorbar": {
              "outlinewidth": 0,
              "ticks": ""
             }
            },
            "type": "scattercarpet"
           }
          ],
          "scattergeo": [
           {
            "marker": {
             "colorbar": {
              "outlinewidth": 0,
              "ticks": ""
             }
            },
            "type": "scattergeo"
           }
          ],
          "scattergl": [
           {
            "marker": {
             "colorbar": {
              "outlinewidth": 0,
              "ticks": ""
             }
            },
            "type": "scattergl"
           }
          ],
          "scattermap": [
           {
            "marker": {
             "colorbar": {
              "outlinewidth": 0,
              "ticks": ""
             }
            },
            "type": "scattermap"
           }
          ],
          "scattermapbox": [
           {
            "marker": {
             "colorbar": {
              "outlinewidth": 0,
              "ticks": ""
             }
            },
            "type": "scattermapbox"
           }
          ],
          "scatterpolar": [
           {
            "marker": {
             "colorbar": {
              "outlinewidth": 0,
              "ticks": ""
             }
            },
            "type": "scatterpolar"
           }
          ],
          "scatterpolargl": [
           {
            "marker": {
             "colorbar": {
              "outlinewidth": 0,
              "ticks": ""
             }
            },
            "type": "scatterpolargl"
           }
          ],
          "scatterternary": [
           {
            "marker": {
             "colorbar": {
              "outlinewidth": 0,
              "ticks": ""
             }
            },
            "type": "scatterternary"
           }
          ],
          "surface": [
           {
            "colorbar": {
             "outlinewidth": 0,
             "ticks": ""
            },
            "colorscale": [
             [
              0,
              "#0d0887"
             ],
             [
              0.1111111111111111,
              "#46039f"
             ],
             [
              0.2222222222222222,
              "#7201a8"
             ],
             [
              0.3333333333333333,
              "#9c179e"
             ],
             [
              0.4444444444444444,
              "#bd3786"
             ],
             [
              0.5555555555555556,
              "#d8576b"
             ],
             [
              0.6666666666666666,
              "#ed7953"
             ],
             [
              0.7777777777777778,
              "#fb9f3a"
             ],
             [
              0.8888888888888888,
              "#fdca26"
             ],
             [
              1,
              "#f0f921"
             ]
            ],
            "type": "surface"
           }
          ],
          "table": [
           {
            "cells": {
             "fill": {
              "color": "#EBF0F8"
             },
             "line": {
              "color": "white"
             }
            },
            "header": {
             "fill": {
              "color": "#C8D4E3"
             },
             "line": {
              "color": "white"
             }
            },
            "type": "table"
           }
          ]
         },
         "layout": {
          "annotationdefaults": {
           "arrowcolor": "#2a3f5f",
           "arrowhead": 0,
           "arrowwidth": 1
          },
          "autotypenumbers": "strict",
          "coloraxis": {
           "colorbar": {
            "outlinewidth": 0,
            "ticks": ""
           }
          },
          "colorscale": {
           "diverging": [
            [
             0,
             "#8e0152"
            ],
            [
             0.1,
             "#c51b7d"
            ],
            [
             0.2,
             "#de77ae"
            ],
            [
             0.3,
             "#f1b6da"
            ],
            [
             0.4,
             "#fde0ef"
            ],
            [
             0.5,
             "#f7f7f7"
            ],
            [
             0.6,
             "#e6f5d0"
            ],
            [
             0.7,
             "#b8e186"
            ],
            [
             0.8,
             "#7fbc41"
            ],
            [
             0.9,
             "#4d9221"
            ],
            [
             1,
             "#276419"
            ]
           ],
           "sequential": [
            [
             0,
             "#0d0887"
            ],
            [
             0.1111111111111111,
             "#46039f"
            ],
            [
             0.2222222222222222,
             "#7201a8"
            ],
            [
             0.3333333333333333,
             "#9c179e"
            ],
            [
             0.4444444444444444,
             "#bd3786"
            ],
            [
             0.5555555555555556,
             "#d8576b"
            ],
            [
             0.6666666666666666,
             "#ed7953"
            ],
            [
             0.7777777777777778,
             "#fb9f3a"
            ],
            [
             0.8888888888888888,
             "#fdca26"
            ],
            [
             1,
             "#f0f921"
            ]
           ],
           "sequentialminus": [
            [
             0,
             "#0d0887"
            ],
            [
             0.1111111111111111,
             "#46039f"
            ],
            [
             0.2222222222222222,
             "#7201a8"
            ],
            [
             0.3333333333333333,
             "#9c179e"
            ],
            [
             0.4444444444444444,
             "#bd3786"
            ],
            [
             0.5555555555555556,
             "#d8576b"
            ],
            [
             0.6666666666666666,
             "#ed7953"
            ],
            [
             0.7777777777777778,
             "#fb9f3a"
            ],
            [
             0.8888888888888888,
             "#fdca26"
            ],
            [
             1,
             "#f0f921"
            ]
           ]
          },
          "colorway": [
           "#636efa",
           "#EF553B",
           "#00cc96",
           "#ab63fa",
           "#FFA15A",
           "#19d3f3",
           "#FF6692",
           "#B6E880",
           "#FF97FF",
           "#FECB52"
          ],
          "font": {
           "color": "#2a3f5f"
          },
          "geo": {
           "bgcolor": "white",
           "lakecolor": "white",
           "landcolor": "white",
           "showlakes": true,
           "showland": true,
           "subunitcolor": "#C8D4E3"
          },
          "hoverlabel": {
           "align": "left"
          },
          "hovermode": "closest",
          "mapbox": {
           "style": "light"
          },
          "paper_bgcolor": "white",
          "plot_bgcolor": "white",
          "polar": {
           "angularaxis": {
            "gridcolor": "#EBF0F8",
            "linecolor": "#EBF0F8",
            "ticks": ""
           },
           "bgcolor": "white",
           "radialaxis": {
            "gridcolor": "#EBF0F8",
            "linecolor": "#EBF0F8",
            "ticks": ""
           }
          },
          "scene": {
           "xaxis": {
            "backgroundcolor": "white",
            "gridcolor": "#DFE8F3",
            "gridwidth": 2,
            "linecolor": "#EBF0F8",
            "showbackground": true,
            "ticks": "",
            "zerolinecolor": "#EBF0F8"
           },
           "yaxis": {
            "backgroundcolor": "white",
            "gridcolor": "#DFE8F3",
            "gridwidth": 2,
            "linecolor": "#EBF0F8",
            "showbackground": true,
            "ticks": "",
            "zerolinecolor": "#EBF0F8"
           },
           "zaxis": {
            "backgroundcolor": "white",
            "gridcolor": "#DFE8F3",
            "gridwidth": 2,
            "linecolor": "#EBF0F8",
            "showbackground": true,
            "ticks": "",
            "zerolinecolor": "#EBF0F8"
           }
          },
          "shapedefaults": {
           "line": {
            "color": "#2a3f5f"
           }
          },
          "ternary": {
           "aaxis": {
            "gridcolor": "#DFE8F3",
            "linecolor": "#A2B1C6",
            "ticks": ""
           },
           "baxis": {
            "gridcolor": "#DFE8F3",
            "linecolor": "#A2B1C6",
            "ticks": ""
           },
           "bgcolor": "white",
           "caxis": {
            "gridcolor": "#DFE8F3",
            "linecolor": "#A2B1C6",
            "ticks": ""
           }
          },
          "title": {
           "x": 0.05
          },
          "xaxis": {
           "automargin": true,
           "gridcolor": "#EBF0F8",
           "linecolor": "#EBF0F8",
           "ticks": "",
           "title": {
            "standoff": 15
           },
           "zerolinecolor": "#EBF0F8",
           "zerolinewidth": 2
          },
          "yaxis": {
           "automargin": true,
           "gridcolor": "#EBF0F8",
           "linecolor": "#EBF0F8",
           "ticks": "",
           "title": {
            "standoff": 15
           },
           "zerolinecolor": "#EBF0F8",
           "zerolinewidth": 2
          }
         }
        },
        "title": {
         "text": "Learning System: Readmission Reduction Over Time"
        },
        "xaxis": {
         "title": {
          "text": "Months"
         }
        },
        "yaxis": {
         "title": {
          "text": "Readmission Rate (%)"
         }
        }
       }
      }
     },
     "metadata": {},
     "output_type": "display_data"
    },
    {
     "data": {
      "application/vnd.plotly.v1+json": {
       "config": {
        "plotlyServerURL": "https://plot.ly"
       },
       "data": [
        {
         "line": {
          "color": "green",
          "width": 3
         },
         "mode": "lines+markers",
         "name": "Care gap resolution (%)",
         "type": "scatter",
         "x": [
          1,
          2,
          3,
          4,
          5,
          6,
          7,
          8,
          9,
          10,
          11,
          12
         ],
         "y": [
          17.6,
          23.2,
          28.8,
          34.4,
          40,
          45.6,
          51.2,
          56.8,
          62.4,
          68,
          73.6,
          79.2
         ]
        }
       ],
       "layout": {
        "template": {
         "data": {
          "bar": [
           {
            "error_x": {
             "color": "#2a3f5f"
            },
            "error_y": {
             "color": "#2a3f5f"
            },
            "marker": {
             "line": {
              "color": "white",
              "width": 0.5
             },
             "pattern": {
              "fillmode": "overlay",
              "size": 10,
              "solidity": 0.2
             }
            },
            "type": "bar"
           }
          ],
          "barpolar": [
           {
            "marker": {
             "line": {
              "color": "white",
              "width": 0.5
             },
             "pattern": {
              "fillmode": "overlay",
              "size": 10,
              "solidity": 0.2
             }
            },
            "type": "barpolar"
           }
          ],
          "carpet": [
           {
            "aaxis": {
             "endlinecolor": "#2a3f5f",
             "gridcolor": "#C8D4E3",
             "linecolor": "#C8D4E3",
             "minorgridcolor": "#C8D4E3",
             "startlinecolor": "#2a3f5f"
            },
            "baxis": {
             "endlinecolor": "#2a3f5f",
             "gridcolor": "#C8D4E3",
             "linecolor": "#C8D4E3",
             "minorgridcolor": "#C8D4E3",
             "startlinecolor": "#2a3f5f"
            },
            "type": "carpet"
           }
          ],
          "choropleth": [
           {
            "colorbar": {
             "outlinewidth": 0,
             "ticks": ""
            },
            "type": "choropleth"
           }
          ],
          "contour": [
           {
            "colorbar": {
             "outlinewidth": 0,
             "ticks": ""
            },
            "colorscale": [
             [
              0,
              "#0d0887"
             ],
             [
              0.1111111111111111,
              "#46039f"
             ],
             [
              0.2222222222222222,
              "#7201a8"
             ],
             [
              0.3333333333333333,
              "#9c179e"
             ],
             [
              0.4444444444444444,
              "#bd3786"
             ],
             [
              0.5555555555555556,
              "#d8576b"
             ],
             [
              0.6666666666666666,
              "#ed7953"
             ],
             [
              0.7777777777777778,
              "#fb9f3a"
             ],
             [
              0.8888888888888888,
              "#fdca26"
             ],
             [
              1,
              "#f0f921"
             ]
            ],
            "type": "contour"
           }
          ],
          "contourcarpet": [
           {
            "colorbar": {
             "outlinewidth": 0,
             "ticks": ""
            },
            "type": "contourcarpet"
           }
          ],
          "heatmap": [
           {
            "colorbar": {
             "outlinewidth": 0,
             "ticks": ""
            },
            "colorscale": [
             [
              0,
              "#0d0887"
             ],
             [
              0.1111111111111111,
              "#46039f"
             ],
             [
              0.2222222222222222,
              "#7201a8"
             ],
             [
              0.3333333333333333,
              "#9c179e"
             ],
             [
              0.4444444444444444,
              "#bd3786"
             ],
             [
              0.5555555555555556,
              "#d8576b"
             ],
             [
              0.6666666666666666,
              "#ed7953"
             ],
             [
              0.7777777777777778,
              "#fb9f3a"
             ],
             [
              0.8888888888888888,
              "#fdca26"
             ],
             [
              1,
              "#f0f921"
             ]
            ],
            "type": "heatmap"
           }
          ],
          "histogram": [
           {
            "marker": {
             "pattern": {
              "fillmode": "overlay",
              "size": 10,
              "solidity": 0.2
             }
            },
            "type": "histogram"
           }
          ],
          "histogram2d": [
           {
            "colorbar": {
             "outlinewidth": 0,
             "ticks": ""
            },
            "colorscale": [
             [
              0,
              "#0d0887"
             ],
             [
              0.1111111111111111,
              "#46039f"
             ],
             [
              0.2222222222222222,
              "#7201a8"
             ],
             [
              0.3333333333333333,
              "#9c179e"
             ],
             [
              0.4444444444444444,
              "#bd3786"
             ],
             [
              0.5555555555555556,
              "#d8576b"
             ],
             [
              0.6666666666666666,
              "#ed7953"
             ],
             [
              0.7777777777777778,
              "#fb9f3a"
             ],
             [
              0.8888888888888888,
              "#fdca26"
             ],
             [
              1,
              "#f0f921"
             ]
            ],
            "type": "histogram2d"
           }
          ],
          "histogram2dcontour": [
           {
            "colorbar": {
             "outlinewidth": 0,
             "ticks": ""
            },
            "colorscale": [
             [
              0,
              "#0d0887"
             ],
             [
              0.1111111111111111,
              "#46039f"
             ],
             [
              0.2222222222222222,
              "#7201a8"
             ],
             [
              0.3333333333333333,
              "#9c179e"
             ],
             [
              0.4444444444444444,
              "#bd3786"
             ],
             [
              0.5555555555555556,
              "#d8576b"
             ],
             [
              0.6666666666666666,
              "#ed7953"
             ],
             [
              0.7777777777777778,
              "#fb9f3a"
             ],
             [
              0.8888888888888888,
              "#fdca26"
             ],
             [
              1,
              "#f0f921"
             ]
            ],
            "type": "histogram2dcontour"
           }
          ],
          "mesh3d": [
           {
            "colorbar": {
             "outlinewidth": 0,
             "ticks": ""
            },
            "type": "mesh3d"
           }
          ],
          "parcoords": [
           {
            "line": {
             "colorbar": {
              "outlinewidth": 0,
              "ticks": ""
             }
            },
            "type": "parcoords"
           }
          ],
          "pie": [
           {
            "automargin": true,
            "type": "pie"
           }
          ],
          "scatter": [
           {
            "fillpattern": {
             "fillmode": "overlay",
             "size": 10,
             "solidity": 0.2
            },
            "type": "scatter"
           }
          ],
          "scatter3d": [
           {
            "line": {
             "colorbar": {
              "outlinewidth": 0,
              "ticks": ""
             }
            },
            "marker": {
             "colorbar": {
              "outlinewidth": 0,
              "ticks": ""
             }
            },
            "type": "scatter3d"
           }
          ],
          "scattercarpet": [
           {
            "marker": {
             "colorbar": {
              "outlinewidth": 0,
              "ticks": ""
             }
            },
            "type": "scattercarpet"
           }
          ],
          "scattergeo": [
           {
            "marker": {
             "colorbar": {
              "outlinewidth": 0,
              "ticks": ""
             }
            },
            "type": "scattergeo"
           }
          ],
          "scattergl": [
           {
            "marker": {
             "colorbar": {
              "outlinewidth": 0,
              "ticks": ""
             }
            },
            "type": "scattergl"
           }
          ],
          "scattermap": [
           {
            "marker": {
             "colorbar": {
              "outlinewidth": 0,
              "ticks": ""
             }
            },
            "type": "scattermap"
           }
          ],
          "scattermapbox": [
           {
            "marker": {
             "colorbar": {
              "outlinewidth": 0,
              "ticks": ""
             }
            },
            "type": "scattermapbox"
           }
          ],
          "scatterpolar": [
           {
            "marker": {
             "colorbar": {
              "outlinewidth": 0,
              "ticks": ""
             }
            },
            "type": "scatterpolar"
           }
          ],
          "scatterpolargl": [
           {
            "marker": {
             "colorbar": {
              "outlinewidth": 0,
              "ticks": ""
             }
            },
            "type": "scatterpolargl"
           }
          ],
          "scatterternary": [
           {
            "marker": {
             "colorbar": {
              "outlinewidth": 0,
              "ticks": ""
             }
            },
            "type": "scatterternary"
           }
          ],
          "surface": [
           {
            "colorbar": {
             "outlinewidth": 0,
             "ticks": ""
            },
            "colorscale": [
             [
              0,
              "#0d0887"
             ],
             [
              0.1111111111111111,
              "#46039f"
             ],
             [
              0.2222222222222222,
              "#7201a8"
             ],
             [
              0.3333333333333333,
              "#9c179e"
             ],
             [
              0.4444444444444444,
              "#bd3786"
             ],
             [
              0.5555555555555556,
              "#d8576b"
             ],
             [
              0.6666666666666666,
              "#ed7953"
             ],
             [
              0.7777777777777778,
              "#fb9f3a"
             ],
             [
              0.8888888888888888,
              "#fdca26"
             ],
             [
              1,
              "#f0f921"
             ]
            ],
            "type": "surface"
           }
          ],
          "table": [
           {
            "cells": {
             "fill": {
              "color": "#EBF0F8"
             },
             "line": {
              "color": "white"
             }
            },
            "header": {
             "fill": {
              "color": "#C8D4E3"
             },
             "line": {
              "color": "white"
             }
            },
            "type": "table"
           }
          ]
         },
         "layout": {
          "annotationdefaults": {
           "arrowcolor": "#2a3f5f",
           "arrowhead": 0,
           "arrowwidth": 1
          },
          "autotypenumbers": "strict",
          "coloraxis": {
           "colorbar": {
            "outlinewidth": 0,
            "ticks": ""
           }
          },
          "colorscale": {
           "diverging": [
            [
             0,
             "#8e0152"
            ],
            [
             0.1,
             "#c51b7d"
            ],
            [
             0.2,
             "#de77ae"
            ],
            [
             0.3,
             "#f1b6da"
            ],
            [
             0.4,
             "#fde0ef"
            ],
            [
             0.5,
             "#f7f7f7"
            ],
            [
             0.6,
             "#e6f5d0"
            ],
            [
             0.7,
             "#b8e186"
            ],
            [
             0.8,
             "#7fbc41"
            ],
            [
             0.9,
             "#4d9221"
            ],
            [
             1,
             "#276419"
            ]
           ],
           "sequential": [
            [
             0,
             "#0d0887"
            ],
            [
             0.1111111111111111,
             "#46039f"
            ],
            [
             0.2222222222222222,
             "#7201a8"
            ],
            [
             0.3333333333333333,
             "#9c179e"
            ],
            [
             0.4444444444444444,
             "#bd3786"
            ],
            [
             0.5555555555555556,
             "#d8576b"
            ],
            [
             0.6666666666666666,
             "#ed7953"
            ],
            [
             0.7777777777777778,
             "#fb9f3a"
            ],
            [
             0.8888888888888888,
             "#fdca26"
            ],
            [
             1,
             "#f0f921"
            ]
           ],
           "sequentialminus": [
            [
             0,
             "#0d0887"
            ],
            [
             0.1111111111111111,
             "#46039f"
            ],
            [
             0.2222222222222222,
             "#7201a8"
            ],
            [
             0.3333333333333333,
             "#9c179e"
            ],
            [
             0.4444444444444444,
             "#bd3786"
            ],
            [
             0.5555555555555556,
             "#d8576b"
            ],
            [
             0.6666666666666666,
             "#ed7953"
            ],
            [
             0.7777777777777778,
             "#fb9f3a"
            ],
            [
             0.8888888888888888,
             "#fdca26"
            ],
            [
             1,
             "#f0f921"
            ]
           ]
          },
          "colorway": [
           "#636efa",
           "#EF553B",
           "#00cc96",
           "#ab63fa",
           "#FFA15A",
           "#19d3f3",
           "#FF6692",
           "#B6E880",
           "#FF97FF",
           "#FECB52"
          ],
          "font": {
           "color": "#2a3f5f"
          },
          "geo": {
           "bgcolor": "white",
           "lakecolor": "white",
           "landcolor": "white",
           "showlakes": true,
           "showland": true,
           "subunitcolor": "#C8D4E3"
          },
          "hoverlabel": {
           "align": "left"
          },
          "hovermode": "closest",
          "mapbox": {
           "style": "light"
          },
          "paper_bgcolor": "white",
          "plot_bgcolor": "white",
          "polar": {
           "angularaxis": {
            "gridcolor": "#EBF0F8",
            "linecolor": "#EBF0F8",
            "ticks": ""
           },
           "bgcolor": "white",
           "radialaxis": {
            "gridcolor": "#EBF0F8",
            "linecolor": "#EBF0F8",
            "ticks": ""
           }
          },
          "scene": {
           "xaxis": {
            "backgroundcolor": "white",
            "gridcolor": "#DFE8F3",
            "gridwidth": 2,
            "linecolor": "#EBF0F8",
            "showbackground": true,
            "ticks": "",
            "zerolinecolor": "#EBF0F8"
           },
           "yaxis": {
            "backgroundcolor": "white",
            "gridcolor": "#DFE8F3",
            "gridwidth": 2,
            "linecolor": "#EBF0F8",
            "showbackground": true,
            "ticks": "",
            "zerolinecolor": "#EBF0F8"
           },
           "zaxis": {
            "backgroundcolor": "white",
            "gridcolor": "#DFE8F3",
            "gridwidth": 2,
            "linecolor": "#EBF0F8",
            "showbackground": true,
            "ticks": "",
            "zerolinecolor": "#EBF0F8"
           }
          },
          "shapedefaults": {
           "line": {
            "color": "#2a3f5f"
           }
          },
          "ternary": {
           "aaxis": {
            "gridcolor": "#DFE8F3",
            "linecolor": "#A2B1C6",
            "ticks": ""
           },
           "baxis": {
            "gridcolor": "#DFE8F3",
            "linecolor": "#A2B1C6",
            "ticks": ""
           },
           "bgcolor": "white",
           "caxis": {
            "gridcolor": "#DFE8F3",
            "linecolor": "#A2B1C6",
            "ticks": ""
           }
          },
          "title": {
           "x": 0.05
          },
          "xaxis": {
           "automargin": true,
           "gridcolor": "#EBF0F8",
           "linecolor": "#EBF0F8",
           "ticks": "",
           "title": {
            "standoff": 15
           },
           "zerolinecolor": "#EBF0F8",
           "zerolinewidth": 2
          },
          "yaxis": {
           "automargin": true,
           "gridcolor": "#EBF0F8",
           "linecolor": "#EBF0F8",
           "ticks": "",
           "title": {
            "standoff": 15
           },
           "zerolinecolor": "#EBF0F8",
           "zerolinewidth": 2
          }
         }
        },
        "title": {
         "text": "Learning Loop: Care Gap Closure Velocity"
        },
        "xaxis": {
         "title": {
          "text": "Months"
         }
        },
        "yaxis": {
         "title": {
          "text": "% of prioritized gaps resolved"
         }
        }
       }
      }
     },
     "metadata": {},
     "output_type": "display_data"
    },
    {
     "data": {
      "application/vnd.plotly.v1+json": {
       "config": {
        "plotlyServerURL": "https://plot.ly"
       },
       "data": [
        {
         "marker": {
          "color": [
           "#1f77b4",
           "#ff7f0e",
           "#2ca02c",
           "#9467bd"
          ]
         },
         "type": "bar",
         "x": [
          "Risk Stratification Specialist",
          "Care Gap Analyst",
          "Benefits Navigator",
          "Engagement Strategist"
         ],
         "y": [
          156,
          296,
          122,
          204
         ]
        }
       ],
       "layout": {
        "template": {
         "data": {
          "bar": [
           {
            "error_x": {
             "color": "#2a3f5f"
            },
            "error_y": {
             "color": "#2a3f5f"
            },
            "marker": {
             "line": {
              "color": "white",
              "width": 0.5
             },
             "pattern": {
              "fillmode": "overlay",
              "size": 10,
              "solidity": 0.2
             }
            },
            "type": "bar"
           }
          ],
          "barpolar": [
           {
            "marker": {
             "line": {
              "color": "white",
              "width": 0.5
             },
             "pattern": {
              "fillmode": "overlay",
              "size": 10,
              "solidity": 0.2
             }
            },
            "type": "barpolar"
           }
          ],
          "carpet": [
           {
            "aaxis": {
             "endlinecolor": "#2a3f5f",
             "gridcolor": "#C8D4E3",
             "linecolor": "#C8D4E3",
             "minorgridcolor": "#C8D4E3",
             "startlinecolor": "#2a3f5f"
            },
            "baxis": {
             "endlinecolor": "#2a3f5f",
             "gridcolor": "#C8D4E3",
             "linecolor": "#C8D4E3",
             "minorgridcolor": "#C8D4E3",
             "startlinecolor": "#2a3f5f"
            },
            "type": "carpet"
           }
          ],
          "choropleth": [
           {
            "colorbar": {
             "outlinewidth": 0,
             "ticks": ""
            },
            "type": "choropleth"
           }
          ],
          "contour": [
           {
            "colorbar": {
             "outlinewidth": 0,
             "ticks": ""
            },
            "colorscale": [
             [
              0,
              "#0d0887"
             ],
             [
              0.1111111111111111,
              "#46039f"
             ],
             [
              0.2222222222222222,
              "#7201a8"
             ],
             [
              0.3333333333333333,
              "#9c179e"
             ],
             [
              0.4444444444444444,
              "#bd3786"
             ],
             [
              0.5555555555555556,
              "#d8576b"
             ],
             [
              0.6666666666666666,
              "#ed7953"
             ],
             [
              0.7777777777777778,
              "#fb9f3a"
             ],
             [
              0.8888888888888888,
              "#fdca26"
             ],
             [
              1,
              "#f0f921"
             ]
            ],
            "type": "contour"
           }
          ],
          "contourcarpet": [
           {
            "colorbar": {
             "outlinewidth": 0,
             "ticks": ""
            },
            "type": "contourcarpet"
           }
          ],
          "heatmap": [
           {
            "colorbar": {
             "outlinewidth": 0,
             "ticks": ""
            },
            "colorscale": [
             [
              0,
              "#0d0887"
             ],
             [
              0.1111111111111111,
              "#46039f"
             ],
             [
              0.2222222222222222,
              "#7201a8"
             ],
             [
              0.3333333333333333,
              "#9c179e"
             ],
             [
              0.4444444444444444,
              "#bd3786"
             ],
             [
              0.5555555555555556,
              "#d8576b"
             ],
             [
              0.6666666666666666,
              "#ed7953"
             ],
             [
              0.7777777777777778,
              "#fb9f3a"
             ],
             [
              0.8888888888888888,
              "#fdca26"
             ],
             [
              1,
              "#f0f921"
             ]
            ],
            "type": "heatmap"
           }
          ],
          "histogram": [
           {
            "marker": {
             "pattern": {
              "fillmode": "overlay",
              "size": 10,
              "solidity": 0.2
             }
            },
            "type": "histogram"
           }
          ],
          "histogram2d": [
           {
            "colorbar": {
             "outlinewidth": 0,
             "ticks": ""
            },
            "colorscale": [
             [
              0,
              "#0d0887"
             ],
             [
              0.1111111111111111,
              "#46039f"
             ],
             [
              0.2222222222222222,
              "#7201a8"
             ],
             [
              0.3333333333333333,
              "#9c179e"
             ],
             [
              0.4444444444444444,
              "#bd3786"
             ],
             [
              0.5555555555555556,
              "#d8576b"
             ],
             [
              0.6666666666666666,
              "#ed7953"
             ],
             [
              0.7777777777777778,
              "#fb9f3a"
             ],
             [
              0.8888888888888888,
              "#fdca26"
             ],
             [
              1,
              "#f0f921"
             ]
            ],
            "type": "histogram2d"
           }
          ],
          "histogram2dcontour": [
           {
            "colorbar": {
             "outlinewidth": 0,
             "ticks": ""
            },
            "colorscale": [
             [
              0,
              "#0d0887"
             ],
             [
              0.1111111111111111,
              "#46039f"
             ],
             [
              0.2222222222222222,
              "#7201a8"
             ],
             [
              0.3333333333333333,
              "#9c179e"
             ],
             [
              0.4444444444444444,
              "#bd3786"
             ],
             [
              0.5555555555555556,
              "#d8576b"
             ],
             [
              0.6666666666666666,
              "#ed7953"
             ],
             [
              0.7777777777777778,
              "#fb9f3a"
             ],
             [
              0.8888888888888888,
              "#fdca26"
             ],
             [
              1,
              "#f0f921"
             ]
            ],
            "type": "histogram2dcontour"
           }
          ],
          "mesh3d": [
           {
            "colorbar": {
             "outlinewidth": 0,
             "ticks": ""
            },
            "type": "mesh3d"
           }
          ],
          "parcoords": [
           {
            "line": {
             "colorbar": {
              "outlinewidth": 0,
              "ticks": ""
             }
            },
            "type": "parcoords"
           }
          ],
          "pie": [
           {
            "automargin": true,
            "type": "pie"
           }
          ],
          "scatter": [
           {
            "fillpattern": {
             "fillmode": "overlay",
             "size": 10,
             "solidity": 0.2
            },
            "type": "scatter"
           }
          ],
          "scatter3d": [
           {
            "line": {
             "colorbar": {
              "outlinewidth": 0,
              "ticks": ""
             }
            },
            "marker": {
             "colorbar": {
              "outlinewidth": 0,
              "ticks": ""
             }
            },
            "type": "scatter3d"
           }
          ],
          "scattercarpet": [
           {
            "marker": {
             "colorbar": {
              "outlinewidth": 0,
              "ticks": ""
             }
            },
            "type": "scattercarpet"
           }
          ],
          "scattergeo": [
           {
            "marker": {
             "colorbar": {
              "outlinewidth": 0,
              "ticks": ""
             }
            },
            "type": "scattergeo"
           }
          ],
          "scattergl": [
           {
            "marker": {
             "colorbar": {
              "outlinewidth": 0,
              "ticks": ""
             }
            },
            "type": "scattergl"
           }
          ],
          "scattermap": [
           {
            "marker": {
             "colorbar": {
              "outlinewidth": 0,
              "ticks": ""
             }
            },
            "type": "scattermap"
           }
          ],
          "scattermapbox": [
           {
            "marker": {
             "colorbar": {
              "outlinewidth": 0,
              "ticks": ""
             }
            },
            "type": "scattermapbox"
           }
          ],
          "scatterpolar": [
           {
            "marker": {
             "colorbar": {
              "outlinewidth": 0,
              "ticks": ""
             }
            },
            "type": "scatterpolar"
           }
          ],
          "scatterpolargl": [
           {
            "marker": {
             "colorbar": {
              "outlinewidth": 0,
              "ticks": ""
             }
            },
            "type": "scatterpolargl"
           }
          ],
          "scatterternary": [
           {
            "marker": {
             "colorbar": {
              "outlinewidth": 0,
              "ticks": ""
             }
            },
            "type": "scatterternary"
           }
          ],
          "surface": [
           {
            "colorbar": {
             "outlinewidth": 0,
             "ticks": ""
            },
            "colorscale": [
             [
              0,
              "#0d0887"
             ],
             [
              0.1111111111111111,
              "#46039f"
             ],
             [
              0.2222222222222222,
              "#7201a8"
             ],
             [
              0.3333333333333333,
              "#9c179e"
             ],
             [
              0.4444444444444444,
              "#bd3786"
             ],
             [
              0.5555555555555556,
              "#d8576b"
             ],
             [
              0.6666666666666666,
              "#ed7953"
             ],
             [
              0.7777777777777778,
              "#fb9f3a"
             ],
             [
              0.8888888888888888,
              "#fdca26"
             ],
             [
              1,
              "#f0f921"
             ]
            ],
            "type": "surface"
           }
          ],
          "table": [
           {
            "cells": {
             "fill": {
              "color": "#EBF0F8"
             },
             "line": {
              "color": "white"
             }
            },
            "header": {
             "fill": {
              "color": "#C8D4E3"
             },
             "line": {
              "color": "white"
             }
            },
            "type": "table"
           }
          ]
         },
         "layout": {
          "annotationdefaults": {
           "arrowcolor": "#2a3f5f",
           "arrowhead": 0,
           "arrowwidth": 1
          },
          "autotypenumbers": "strict",
          "coloraxis": {
           "colorbar": {
            "outlinewidth": 0,
            "ticks": ""
           }
          },
          "colorscale": {
           "diverging": [
            [
             0,
             "#8e0152"
            ],
            [
             0.1,
             "#c51b7d"
            ],
            [
             0.2,
             "#de77ae"
            ],
            [
             0.3,
             "#f1b6da"
            ],
            [
             0.4,
             "#fde0ef"
            ],
            [
             0.5,
             "#f7f7f7"
            ],
            [
             0.6,
             "#e6f5d0"
            ],
            [
             0.7,
             "#b8e186"
            ],
            [
             0.8,
             "#7fbc41"
            ],
            [
             0.9,
             "#4d9221"
            ],
            [
             1,
             "#276419"
            ]
           ],
           "sequential": [
            [
             0,
             "#0d0887"
            ],
            [
             0.1111111111111111,
             "#46039f"
            ],
            [
             0.2222222222222222,
             "#7201a8"
            ],
            [
             0.3333333333333333,
             "#9c179e"
            ],
            [
             0.4444444444444444,
             "#bd3786"
            ],
            [
             0.5555555555555556,
             "#d8576b"
            ],
            [
             0.6666666666666666,
             "#ed7953"
            ],
            [
             0.7777777777777778,
             "#fb9f3a"
            ],
            [
             0.8888888888888888,
             "#fdca26"
            ],
            [
             1,
             "#f0f921"
            ]
           ],
           "sequentialminus": [
            [
             0,
             "#0d0887"
            ],
            [
             0.1111111111111111,
             "#46039f"
            ],
            [
             0.2222222222222222,
             "#7201a8"
            ],
            [
             0.3333333333333333,
             "#9c179e"
            ],
            [
             0.4444444444444444,
             "#bd3786"
            ],
            [
             0.5555555555555556,
             "#d8576b"
            ],
            [
             0.6666666666666666,
             "#ed7953"
            ],
            [
             0.7777777777777778,
             "#fb9f3a"
            ],
            [
             0.8888888888888888,
             "#fdca26"
            ],
            [
             1,
             "#f0f921"
            ]
           ]
          },
          "colorway": [
           "#636efa",
           "#EF553B",
           "#00cc96",
           "#ab63fa",
           "#FFA15A",
           "#19d3f3",
           "#FF6692",
           "#B6E880",
           "#FF97FF",
           "#FECB52"
          ],
          "font": {
           "color": "#2a3f5f"
          },
          "geo": {
           "bgcolor": "white",
           "lakecolor": "white",
           "landcolor": "white",
           "showlakes": true,
           "showland": true,
           "subunitcolor": "#C8D4E3"
          },
          "hoverlabel": {
           "align": "left"
          },
          "hovermode": "closest",
          "mapbox": {
           "style": "light"
          },
          "paper_bgcolor": "white",
          "plot_bgcolor": "white",
          "polar": {
           "angularaxis": {
            "gridcolor": "#EBF0F8",
            "linecolor": "#EBF0F8",
            "ticks": ""
           },
           "bgcolor": "white",
           "radialaxis": {
            "gridcolor": "#EBF0F8",
            "linecolor": "#EBF0F8",
            "ticks": ""
           }
          },
          "scene": {
           "xaxis": {
            "backgroundcolor": "white",
            "gridcolor": "#DFE8F3",
            "gridwidth": 2,
            "linecolor": "#EBF0F8",
            "showbackground": true,
            "ticks": "",
            "zerolinecolor": "#EBF0F8"
           },
           "yaxis": {
            "backgroundcolor": "white",
            "gridcolor": "#DFE8F3",
            "gridwidth": 2,
            "linecolor": "#EBF0F8",
            "showbackground": true,
            "ticks": "",
            "zerolinecolor": "#EBF0F8"
           },
           "zaxis": {
            "backgroundcolor": "white",
            "gridcolor": "#DFE8F3",
            "gridwidth": 2,
            "linecolor": "#EBF0F8",
            "showbackground": true,
            "ticks": "",
            "zerolinecolor": "#EBF0F8"
           }
          },
          "shapedefaults": {
           "line": {
            "color": "#2a3f5f"
           }
          },
          "ternary": {
           "aaxis": {
            "gridcolor": "#DFE8F3",
            "linecolor": "#A2B1C6",
            "ticks": ""
           },
           "baxis": {
            "gridcolor": "#DFE8F3",
            "linecolor": "#A2B1C6",
            "ticks": ""
           },
           "bgcolor": "white",
           "caxis": {
            "gridcolor": "#DFE8F3",
            "linecolor": "#A2B1C6",
            "ticks": ""
           }
          },
          "title": {
           "x": 0.05
          },
          "xaxis": {
           "automargin": true,
           "gridcolor": "#EBF0F8",
           "linecolor": "#EBF0F8",
           "ticks": "",
           "title": {
            "standoff": 15
           },
           "zerolinecolor": "#EBF0F8",
           "zerolinewidth": 2
          },
          "yaxis": {
           "automargin": true,
           "gridcolor": "#EBF0F8",
           "linecolor": "#EBF0F8",
           "ticks": "",
           "title": {
            "standoff": 15
           },
           "zerolinecolor": "#EBF0F8",
           "zerolinewidth": 2
          }
         }
        },
        "title": {
         "text": "Agent contribution to interventions"
        },
        "xaxis": {
         "title": {
          "text": "Agent"
         }
        },
        "yaxis": {
         "title": {
          "text": "Actions recommended"
         }
        }
       }
      }
     },
     "metadata": {},
     "output_type": "display_data"
    },
    {
     "data": {
      "application/vnd.plotly.v1+json": {
       "config": {
        "plotlyServerURL": "https://plot.ly"
       },
       "data": [
        {
         "domain": {
          "x": [
           0,
           1
          ],
          "y": [
           0,
           1
          ]
         },
         "hovertemplate": "label=%{label}<br>value=%{value}<extra></extra>",
         "labels": [
          "Medium",
          "High",
          "Critical",
          "Low"
         ],
         "legendgroup": "",
         "name": "",
         "showlegend": true,
         "type": "pie",
         "values": {
          "bdata": "MCkQDw==",
          "dtype": "i1"
         }
        }
       ],
       "layout": {
        "legend": {
         "tracegroupgap": 0
        },
        "template": {
         "data": {
          "bar": [
           {
            "error_x": {
             "color": "#2a3f5f"
            },
            "error_y": {
             "color": "#2a3f5f"
            },
            "marker": {
             "line": {
              "color": "#E5ECF6",
              "width": 0.5
             },
             "pattern": {
              "fillmode": "overlay",
              "size": 10,
              "solidity": 0.2
             }
            },
            "type": "bar"
           }
          ],
          "barpolar": [
           {
            "marker": {
             "line": {
              "color": "#E5ECF6",
              "width": 0.5
             },
             "pattern": {
              "fillmode": "overlay",
              "size": 10,
              "solidity": 0.2
             }
            },
            "type": "barpolar"
           }
          ],
          "carpet": [
           {
            "aaxis": {
             "endlinecolor": "#2a3f5f",
             "gridcolor": "white",
             "linecolor": "white",
             "minorgridcolor": "white",
             "startlinecolor": "#2a3f5f"
            },
            "baxis": {
             "endlinecolor": "#2a3f5f",
             "gridcolor": "white",
             "linecolor": "white",
             "minorgridcolor": "white",
             "startlinecolor": "#2a3f5f"
            },
            "type": "carpet"
           }
          ],
          "choropleth": [
           {
            "colorbar": {
             "outlinewidth": 0,
             "ticks": ""
            },
            "type": "choropleth"
           }
          ],
          "contour": [
           {
            "colorbar": {
             "outlinewidth": 0,
             "ticks": ""
            },
            "colorscale": [
             [
              0,
              "#0d0887"
             ],
             [
              0.1111111111111111,
              "#46039f"
             ],
             [
              0.2222222222222222,
              "#7201a8"
             ],
             [
              0.3333333333333333,
              "#9c179e"
             ],
             [
              0.4444444444444444,
              "#bd3786"
             ],
             [
              0.5555555555555556,
              "#d8576b"
             ],
             [
              0.6666666666666666,
              "#ed7953"
             ],
             [
              0.7777777777777778,
              "#fb9f3a"
             ],
             [
              0.8888888888888888,
              "#fdca26"
             ],
             [
              1,
              "#f0f921"
             ]
            ],
            "type": "contour"
           }
          ],
          "contourcarpet": [
           {
            "colorbar": {
             "outlinewidth": 0,
             "ticks": ""
            },
            "type": "contourcarpet"
           }
          ],
          "heatmap": [
           {
            "colorbar": {
             "outlinewidth": 0,
             "ticks": ""
            },
            "colorscale": [
             [
              0,
              "#0d0887"
             ],
             [
              0.1111111111111111,
              "#46039f"
             ],
             [
              0.2222222222222222,
              "#7201a8"
             ],
             [
              0.3333333333333333,
              "#9c179e"
             ],
             [
              0.4444444444444444,
              "#bd3786"
             ],
             [
              0.5555555555555556,
              "#d8576b"
             ],
             [
              0.6666666666666666,
              "#ed7953"
             ],
             [
              0.7777777777777778,
              "#fb9f3a"
             ],
             [
              0.8888888888888888,
              "#fdca26"
             ],
             [
              1,
              "#f0f921"
             ]
            ],
            "type": "heatmap"
           }
          ],
          "histogram": [
           {
            "marker": {
             "pattern": {
              "fillmode": "overlay",
              "size": 10,
              "solidity": 0.2
             }
            },
            "type": "histogram"
           }
          ],
          "histogram2d": [
           {
            "colorbar": {
             "outlinewidth": 0,
             "ticks": ""
            },
            "colorscale": [
             [
              0,
              "#0d0887"
             ],
             [
              0.1111111111111111,
              "#46039f"
             ],
             [
              0.2222222222222222,
              "#7201a8"
             ],
             [
              0.3333333333333333,
              "#9c179e"
             ],
             [
              0.4444444444444444,
              "#bd3786"
             ],
             [
              0.5555555555555556,
              "#d8576b"
             ],
             [
              0.6666666666666666,
              "#ed7953"
             ],
             [
              0.7777777777777778,
              "#fb9f3a"
             ],
             [
              0.8888888888888888,
              "#fdca26"
             ],
             [
              1,
              "#f0f921"
             ]
            ],
            "type": "histogram2d"
           }
          ],
          "histogram2dcontour": [
           {
            "colorbar": {
             "outlinewidth": 0,
             "ticks": ""
            },
            "colorscale": [
             [
              0,
              "#0d0887"
             ],
             [
              0.1111111111111111,
              "#46039f"
             ],
             [
              0.2222222222222222,
              "#7201a8"
             ],
             [
              0.3333333333333333,
              "#9c179e"
             ],
             [
              0.4444444444444444,
              "#bd3786"
             ],
             [
              0.5555555555555556,
              "#d8576b"
             ],
             [
              0.6666666666666666,
              "#ed7953"
             ],
             [
              0.7777777777777778,
              "#fb9f3a"
             ],
             [
              0.8888888888888888,
              "#fdca26"
             ],
             [
              1,
              "#f0f921"
             ]
            ],
            "type": "histogram2dcontour"
           }
          ],
          "mesh3d": [
           {
            "colorbar": {
             "outlinewidth": 0,
             "ticks": ""
            },
            "type": "mesh3d"
           }
          ],
          "parcoords": [
           {
            "line": {
             "colorbar": {
              "outlinewidth": 0,
              "ticks": ""
             }
            },
            "type": "parcoords"
           }
          ],
          "pie": [
           {
            "automargin": true,
            "type": "pie"
           }
          ],
          "scatter": [
           {
            "fillpattern": {
             "fillmode": "overlay",
             "size": 10,
             "solidity": 0.2
            },
            "type": "scatter"
           }
          ],
          "scatter3d": [
           {
            "line": {
             "colorbar": {
              "outlinewidth": 0,
              "ticks": ""
             }
            },
            "marker": {
             "colorbar": {
              "outlinewidth": 0,
              "ticks": ""
             }
            },
            "type": "scatter3d"
           }
          ],
          "scattercarpet": [
           {
            "marker": {
             "colorbar": {
              "outlinewidth": 0,
              "ticks": ""
             }
            },
            "type": "scattercarpet"
           }
          ],
          "scattergeo": [
           {
            "marker": {
             "colorbar": {
              "outlinewidth": 0,
              "ticks": ""
             }
            },
            "type": "scattergeo"
           }
          ],
          "scattergl": [
           {
            "marker": {
             "colorbar": {
              "outlinewidth": 0,
              "ticks": ""
             }
            },
            "type": "scattergl"
           }
          ],
          "scattermap": [
           {
            "marker": {
             "colorbar": {
              "outlinewidth": 0,
              "ticks": ""
             }
            },
            "type": "scattermap"
           }
          ],
          "scattermapbox": [
           {
            "marker": {
             "colorbar": {
              "outlinewidth": 0,
              "ticks": ""
             }
            },
            "type": "scattermapbox"
           }
          ],
          "scatterpolar": [
           {
            "marker": {
             "colorbar": {
              "outlinewidth": 0,
              "ticks": ""
             }
            },
            "type": "scatterpolar"
           }
          ],
          "scatterpolargl": [
           {
            "marker": {
             "colorbar": {
              "outlinewidth": 0,
              "ticks": ""
             }
            },
            "type": "scatterpolargl"
           }
          ],
          "scatterternary": [
           {
            "marker": {
             "colorbar": {
              "outlinewidth": 0,
              "ticks": ""
             }
            },
            "type": "scatterternary"
           }
          ],
          "surface": [
           {
            "colorbar": {
             "outlinewidth": 0,
             "ticks": ""
            },
            "colorscale": [
             [
              0,
              "#0d0887"
             ],
             [
              0.1111111111111111,
              "#46039f"
             ],
             [
              0.2222222222222222,
              "#7201a8"
             ],
             [
              0.3333333333333333,
              "#9c179e"
             ],
             [
              0.4444444444444444,
              "#bd3786"
             ],
             [
              0.5555555555555556,
              "#d8576b"
             ],
             [
              0.6666666666666666,
              "#ed7953"
             ],
             [
              0.7777777777777778,
              "#fb9f3a"
             ],
             [
              0.8888888888888888,
              "#fdca26"
             ],
             [
              1,
              "#f0f921"
             ]
            ],
            "type": "surface"
           }
          ],
          "table": [
           {
            "cells": {
             "fill": {
              "color": "#EBF0F8"
             },
             "line": {
              "color": "white"
             }
            },
            "header": {
             "fill": {
              "color": "#C8D4E3"
             },
             "line": {
              "color": "white"
             }
            },
            "type": "table"
           }
          ]
         },
         "layout": {
          "annotationdefaults": {
           "arrowcolor": "#2a3f5f",
           "arrowhead": 0,
           "arrowwidth": 1
          },
          "autotypenumbers": "strict",
          "coloraxis": {
           "colorbar": {
            "outlinewidth": 0,
            "ticks": ""
           }
          },
          "colorscale": {
           "diverging": [
            [
             0,
             "#8e0152"
            ],
            [
             0.1,
             "#c51b7d"
            ],
            [
             0.2,
             "#de77ae"
            ],
            [
             0.3,
             "#f1b6da"
            ],
            [
             0.4,
             "#fde0ef"
            ],
            [
             0.5,
             "#f7f7f7"
            ],
            [
             0.6,
             "#e6f5d0"
            ],
            [
             0.7,
             "#b8e186"
            ],
            [
             0.8,
             "#7fbc41"
            ],
            [
             0.9,
             "#4d9221"
            ],
            [
             1,
             "#276419"
            ]
           ],
           "sequential": [
            [
             0,
             "#0d0887"
            ],
            [
             0.1111111111111111,
             "#46039f"
            ],
            [
             0.2222222222222222,
             "#7201a8"
            ],
            [
             0.3333333333333333,
             "#9c179e"
            ],
            [
             0.4444444444444444,
             "#bd3786"
            ],
            [
             0.5555555555555556,
             "#d8576b"
            ],
            [
             0.6666666666666666,
             "#ed7953"
            ],
            [
             0.7777777777777778,
             "#fb9f3a"
            ],
            [
             0.8888888888888888,
             "#fdca26"
            ],
            [
             1,
             "#f0f921"
            ]
           ],
           "sequentialminus": [
            [
             0,
             "#0d0887"
            ],
            [
             0.1111111111111111,
             "#46039f"
            ],
            [
             0.2222222222222222,
             "#7201a8"
            ],
            [
             0.3333333333333333,
             "#9c179e"
            ],
            [
             0.4444444444444444,
             "#bd3786"
            ],
            [
             0.5555555555555556,
             "#d8576b"
            ],
            [
             0.6666666666666666,
             "#ed7953"
            ],
            [
             0.7777777777777778,
             "#fb9f3a"
            ],
            [
             0.8888888888888888,
             "#fdca26"
            ],
            [
             1,
             "#f0f921"
            ]
           ]
          },
          "colorway": [
           "#636efa",
           "#EF553B",
           "#00cc96",
           "#ab63fa",
           "#FFA15A",
           "#19d3f3",
           "#FF6692",
           "#B6E880",
           "#FF97FF",
           "#FECB52"
          ],
          "font": {
           "color": "#2a3f5f"
          },
          "geo": {
           "bgcolor": "white",
           "lakecolor": "white",
           "landcolor": "#E5ECF6",
           "showlakes": true,
           "showland": true,
           "subunitcolor": "white"
          },
          "hoverlabel": {
           "align": "left"
          },
          "hovermode": "closest",
          "mapbox": {
           "style": "light"
          },
          "paper_bgcolor": "white",
          "plot_bgcolor": "#E5ECF6",
          "polar": {
           "angularaxis": {
            "gridcolor": "white",
            "linecolor": "white",
            "ticks": ""
           },
           "bgcolor": "#E5ECF6",
           "radialaxis": {
            "gridcolor": "white",
            "linecolor": "white",
            "ticks": ""
           }
          },
          "scene": {
           "xaxis": {
            "backgroundcolor": "#E5ECF6",
            "gridcolor": "white",
            "gridwidth": 2,
            "linecolor": "white",
            "showbackground": true,
            "ticks": "",
            "zerolinecolor": "white"
           },
           "yaxis": {
            "backgroundcolor": "#E5ECF6",
            "gridcolor": "white",
            "gridwidth": 2,
            "linecolor": "white",
            "showbackground": true,
            "ticks": "",
            "zerolinecolor": "white"
           },
           "zaxis": {
            "backgroundcolor": "#E5ECF6",
            "gridcolor": "white",
            "gridwidth": 2,
            "linecolor": "white",
            "showbackground": true,
            "ticks": "",
            "zerolinecolor": "white"
           }
          },
          "shapedefaults": {
           "line": {
            "color": "#2a3f5f"
           }
          },
          "ternary": {
           "aaxis": {
            "gridcolor": "white",
            "linecolor": "white",
            "ticks": ""
           },
           "baxis": {
            "gridcolor": "white",
            "linecolor": "white",
            "ticks": ""
           },
           "bgcolor": "#E5ECF6",
           "caxis": {
            "gridcolor": "white",
            "linecolor": "white",
            "ticks": ""
           }
          },
          "title": {
           "x": 0.05
          },
          "xaxis": {
           "automargin": true,
           "gridcolor": "white",
           "linecolor": "white",
           "ticks": "",
           "title": {
            "standoff": 15
           },
           "zerolinecolor": "white",
           "zerolinewidth": 2
          },
          "yaxis": {
           "automargin": true,
           "gridcolor": "white",
           "linecolor": "white",
           "ticks": "",
           "title": {
            "standoff": 15
           },
           "zerolinecolor": "white",
           "zerolinewidth": 2
          }
         }
        },
        "title": {
         "text": "Patient Risk Distribution"
        }
       }
      }
     },
     "metadata": {},
     "output_type": "display_data"
    }
   ],
   "source": [
    "# Cell 5: Visualize Feedback Loops\n",
    "fig = go.Figure()\n",
    "fig.add_trace(go.Scatter(\n",
    "    x=results['time_points'],\n",
    "    y=results['readmission_rates'],\n",
    "    mode='lines+markers',\n",
    "    name='Modeled readmission trend',\n",
    "    line=dict(color='red', width=3),\n",
    "    marker=dict(size=8)\n",
    "))\n",
    "fig.add_trace(go.Scatter(\n",
    "    x=results['time_points'],\n",
    "    y=[18 for _ in results['time_points']],\n",
    "    mode='lines',\n",
    "    name='Baseline (no orchestration)',\n",
    "    line=dict(color='gray', dash='dash')\n",
    "))\n",
    "fig.update_layout(\n",
    "    title='Learning System: Readmission Reduction Over Time',\n",
    "    xaxis_title='Months',\n",
    "    yaxis_title='Readmission Rate (%)',\n",
    "    hovermode='x unified',\n",
    "    template='plotly_white'\n",
    ")\n",
    "fig.show()\n",
    "\n",
    "fig_care = go.Figure()\n",
    "fig_care.add_trace(go.Scatter(\n",
    "    x=results['time_points'],\n",
    "    y=results['care_gap_resolution'],\n",
    "    mode='lines+markers',\n",
    "    name='Care gap resolution (%)',\n",
    "    line=dict(color='green', width=3)\n",
    "))\n",
    "fig_care.update_layout(\n",
    "    title='Learning Loop: Care Gap Closure Velocity',\n",
    "    xaxis_title='Months',\n",
    "    yaxis_title='% of prioritized gaps resolved',\n",
    "    template='plotly_white'\n",
    ")\n",
    "fig_care.show()\n",
    "\n",
    "agent_fig = go.Figure(data=go.Bar(\n",
    "    x=list(results['agent_action_counts'].keys()),\n",
    "    y=list(results['agent_action_counts'].values()),\n",
    "    marker=dict(color=['#1f77b4', '#ff7f0e', '#2ca02c', '#9467bd'])\n",
    "))\n",
    "agent_fig.update_layout(\n",
    "    title='Agent contribution to interventions',\n",
    "    xaxis_title='Agent',\n",
    "    yaxis_title='Actions recommended',\n",
    "    template='plotly_white'\n",
    ")\n",
    "agent_fig.show()\n",
    "\n",
    "risk_dist = cohort['risk_level'].value_counts()\n",
    "fig_risk = px.pie(\n",
    "    values=risk_dist.values,\n",
    "    names=risk_dist.index,\n",
    "    title='Patient Risk Distribution',\n",
    "    color_discrete_map={'Critical': 'red', 'High': 'orange', 'Medium': 'yellow', 'Low': 'green'}\n",
    ")\n",
    "fig_risk.show()"
   ]
  },
  {
   "cell_type": "code",
   "execution_count": 25,
   "id": "cb408cab",
   "metadata": {
    "id": "cb408cab",
    "outputId": "9abe3f9d-ac27-4ead-f717-1f933b7389b5"
   },
   "outputs": [
    {
     "name": "stdout",
     "output_type": "stream",
     "text": [
      "Traditional care management (30 FTE) → 18% readmission, $450 per patient/month\n",
      "Our orchestrated pod (3 FTE + agents) → 7.5% readmission, $125 per patient/month\n",
      "Annualized savings modeled: $182,340 (~$1,520 per patient)\n",
      "Agents recommended 639 interventions across 296 gaps\n",
      "Human team focuses on coordination + escalations; agents handle analysis, monitoring, and follow-up queues.\n"
     ]
    }
   ],
   "source": [
    "# Cell 6: Quantify Impact\n",
    "annual_savings = results['estimated_cost_savings']\n",
    "per_patient_savings = annual_savings / results['patients_processed']\n",
    "print(f\"Traditional care management (30 FTE) → 18% readmission, $450 per patient/month\")\n",
    "print(f\"Our orchestrated pod (3 FTE + agents) → {results['readmission_rates'][-1]:.1f}% readmission, $125 per patient/month\")\n",
    "print(f\"Annualized savings modeled: ${annual_savings:,.0f} (~${per_patient_savings:,.0f} per patient)\")\n",
    "print(f\"Agents recommended {results['interventions_recommended']} interventions across {results['care_gaps_found']} gaps\")\n",
    "print(\"Human team focuses on coordination + escalations; agents handle analysis, monitoring, and follow-up queues.\")"
   ]
  },
  {
   "cell_type": "code",
   "execution_count": 27,
   "id": "fb8db325",
   "metadata": {
    "id": "fb8db325",
    "outputId": "63e7c19a-e517-4cba-ec82-015a105a6e96"
   },
   "outputs": [
    {
     "name": "stdout",
     "output_type": "stream",
     "text": [
      "📚 Learning cycle insights:\n",
      "- Readmission improvement vs baseline: 10.5 percentage points\n",
      "- Care gap resolution acceleration: +61.6 points over 12 months\n",
      "- Most frequent interventions: Add to daily high-risk clinical standup, Run medication escalation case review, Coordinate nephrology consult with Community Renal Care\n",
      "🔄 System telemetry:\n",
      "- Actions per high-risk patient: 11.2\n",
      "- Agent workload distribution: {'Risk Stratification Specialist': 156, 'Care Gap Analyst': 296, 'Benefits Navigator': 122, 'Engagement Strategist': 204}\n",
      "- Monitoring cadence (critical patients): 7 days vs 14 days baseline\n"
     ]
    }
   ],
   "source": [
    "# Cell 7: Show Continuous Learning\n",
    "from collections import Counter\n",
    "\n",
    "def summarize_learning_signals(orchestration_results: dict):\n",
    "    readmission_gain = round(18 - orchestration_results['readmission_rates'][-1], 1)\n",
    "    care_gap_gain = round(orchestration_results['care_gap_resolution'][-1] - orchestration_results['care_gap_resolution'][0], 1)\n",
    "    action_counter = Counter()\n",
    "    for patient in orchestration_results['patient_spotlight']:\n",
    "        for action in patient['top_actions']:\n",
    "            action_counter[action['title']] += 1\n",
    "    top_actions = [title for title, _ in action_counter.most_common(3)]\n",
    "    return readmission_gain, care_gap_gain, top_actions\n",
    "\n",
    "readmission_gain, care_gap_gain, top_actions = summarize_learning_signals(results)\n",
    "\n",
    "print(\"📚 Learning cycle insights:\")\n",
    "print(f\"- Readmission improvement vs baseline: {readmission_gain} percentage points\")\n",
    "print(f\"- Care gap resolution acceleration: +{care_gap_gain} points over 12 months\")\n",
    "print(f\"- Most frequent interventions: {', '.join(top_actions)}\")\n",
    "\n",
    "print(\"🔄 System telemetry:\")\n",
    "print(f\"- Actions per high-risk patient: {results['interventions_recommended'] / max(results['high_risk_identified'], 1):.1f}\")\n",
    "print(f\"- Agent workload distribution: {results['agent_action_counts']}\")\n",
    "print(f\"- Monitoring cadence (critical patients): 7 days vs 14 days baseline\")"
   ]
  },
  {
   "cell_type": "markdown",
   "id": "498b1d4b",
   "metadata": {
    "id": "498b1d4b"
   },
   "source": [
    "### **Act 2: The right way** (simple --> complex escalation)"
   ]
  },
  {
   "cell_type": "markdown",
   "id": "f33641fa",
   "metadata": {
    "id": "f33641fa"
   },
   "source": [
    "*This demonstrates how 3 people + AI agents can deliver what typically requires a 30-person care management department, while improving patient outcomes and reducing costs.*"
   ]
  },
  {
   "cell_type": "markdown",
   "id": "ff4ab8f1",
   "metadata": {},
   "source": [
    "**Three-person pod choreography**\n",
    "\n",
    "- Clinical Nurse Lead scans agent insights to pick the highest-risk cases for the daily standup.\n",
    "- Care Navigator translates benefit/SDOH recommendations into frictionless patient logistics.\n",
    "- Clinical Pharmacist adjusts therapies and adherence programs hand-in-hand with the benefits agent.\n",
    "- The code below assembles a live workload view so we can show the audience how a tiny pod assigns work in minutes.\n",
    "\n"
   ]
  },
  {
   "cell_type": "code",
   "execution_count": 31,
   "id": "70c634f1",
   "metadata": {},
   "outputs": [
    {
     "name": "stdout",
     "output_type": "stream",
     "text": [
      "🗂️ Daily standup queue (6 highest priority patients):\n"
     ]
    },
    {
     "data": {
      "text/html": [
       "<div>\n",
       "<style scoped>\n",
       "    .dataframe tbody tr th:only-of-type {\n",
       "        vertical-align: middle;\n",
       "    }\n",
       "\n",
       "    .dataframe tbody tr th {\n",
       "        vertical-align: top;\n",
       "    }\n",
       "\n",
       "    .dataframe thead th {\n",
       "        text-align: right;\n",
       "    }\n",
       "</style>\n",
       "<table border=\"1\" class=\"dataframe\">\n",
       "  <thead>\n",
       "    <tr style=\"text-align: right;\">\n",
       "      <th></th>\n",
       "      <th>patient_id</th>\n",
       "      <th>risk_level</th>\n",
       "      <th>risk_summary</th>\n",
       "      <th>clinical_nurse_lead_focus</th>\n",
       "      <th>care_navigator_focus</th>\n",
       "      <th>clinical_pharmacist_focus</th>\n",
       "      <th>next_touch_in_days</th>\n",
       "    </tr>\n",
       "  </thead>\n",
       "  <tbody>\n",
       "    <tr>\n",
       "      <th>0</th>\n",
       "      <td>PT-0034</td>\n",
       "      <td>Critical</td>\n",
       "      <td>Critical risk (score 6). A1C 11.3%, adherence ...</td>\n",
       "      <td>Run medication escalation case review</td>\n",
       "      <td>Coverage verified</td>\n",
       "      <td>Set up digital reminders and pharmacy sync</td>\n",
       "      <td>7</td>\n",
       "    </tr>\n",
       "    <tr>\n",
       "      <th>1</th>\n",
       "      <td>PT-0023</td>\n",
       "      <td>Critical</td>\n",
       "      <td>Critical risk (score 7). A1C 11.2%, adherence ...</td>\n",
       "      <td>Schedule retinal exam with Metro Retina Associ...</td>\n",
       "      <td>Optimize coverage for Empagliflozin</td>\n",
       "      <td>Set up digital reminders and pharmacy sync</td>\n",
       "      <td>7</td>\n",
       "    </tr>\n",
       "    <tr>\n",
       "      <th>2</th>\n",
       "      <td>PT-0060</td>\n",
       "      <td>Critical</td>\n",
       "      <td>Critical risk (score 7). A1C 10.2%, adherence ...</td>\n",
       "      <td>Schedule retinal exam with Metro Retina Associ...</td>\n",
       "      <td>Coverage verified</td>\n",
       "      <td>Set up digital reminders and pharmacy sync</td>\n",
       "      <td>7</td>\n",
       "    </tr>\n",
       "    <tr>\n",
       "      <th>3</th>\n",
       "      <td>PT-0018</td>\n",
       "      <td>Critical</td>\n",
       "      <td>Critical risk (score 6). A1C 10.1%, adherence ...</td>\n",
       "      <td>Run medication escalation case review</td>\n",
       "      <td>Coverage verified</td>\n",
       "      <td>Offer virtual or home-visit care pathway</td>\n",
       "      <td>7</td>\n",
       "    </tr>\n",
       "    <tr>\n",
       "      <th>4</th>\n",
       "      <td>PT-0097</td>\n",
       "      <td>Critical</td>\n",
       "      <td>Critical risk (score 6). A1C 9.9%, adherence 4...</td>\n",
       "      <td>Schedule retinal exam with Metro Retina Associ...</td>\n",
       "      <td>Enroll patient in manufacturer copay assistance</td>\n",
       "      <td>Offer virtual or home-visit care pathway</td>\n",
       "      <td>7</td>\n",
       "    </tr>\n",
       "    <tr>\n",
       "      <th>5</th>\n",
       "      <td>PT-0027</td>\n",
       "      <td>Critical</td>\n",
       "      <td>Critical risk (score 7). A1C 9.8%, adherence 9...</td>\n",
       "      <td>Schedule retinal exam with Metro Retina Associ...</td>\n",
       "      <td>Optimize coverage for Empagliflozin</td>\n",
       "      <td>Coordinate motivational interviewing sessions</td>\n",
       "      <td>7</td>\n",
       "    </tr>\n",
       "  </tbody>\n",
       "</table>\n",
       "</div>"
      ],
      "text/plain": [
       "  patient_id risk_level                                       risk_summary  \\\n",
       "0    PT-0034   Critical  Critical risk (score 6). A1C 11.3%, adherence ...   \n",
       "1    PT-0023   Critical  Critical risk (score 7). A1C 11.2%, adherence ...   \n",
       "2    PT-0060   Critical  Critical risk (score 7). A1C 10.2%, adherence ...   \n",
       "3    PT-0018   Critical  Critical risk (score 6). A1C 10.1%, adherence ...   \n",
       "4    PT-0097   Critical  Critical risk (score 6). A1C 9.9%, adherence 4...   \n",
       "5    PT-0027   Critical  Critical risk (score 7). A1C 9.8%, adherence 9...   \n",
       "\n",
       "                           clinical_nurse_lead_focus  \\\n",
       "0              Run medication escalation case review   \n",
       "1  Schedule retinal exam with Metro Retina Associ...   \n",
       "2  Schedule retinal exam with Metro Retina Associ...   \n",
       "3              Run medication escalation case review   \n",
       "4  Schedule retinal exam with Metro Retina Associ...   \n",
       "5  Schedule retinal exam with Metro Retina Associ...   \n",
       "\n",
       "                              care_navigator_focus  \\\n",
       "0                                Coverage verified   \n",
       "1              Optimize coverage for Empagliflozin   \n",
       "2                                Coverage verified   \n",
       "3                                Coverage verified   \n",
       "4  Enroll patient in manufacturer copay assistance   \n",
       "5              Optimize coverage for Empagliflozin   \n",
       "\n",
       "                       clinical_pharmacist_focus  next_touch_in_days  \n",
       "0     Set up digital reminders and pharmacy sync                   7  \n",
       "1     Set up digital reminders and pharmacy sync                   7  \n",
       "2     Set up digital reminders and pharmacy sync                   7  \n",
       "3       Offer virtual or home-visit care pathway                   7  \n",
       "4       Offer virtual or home-visit care pathway                   7  \n",
       "5  Coordinate motivational interviewing sessions                   7  "
      ]
     },
     "metadata": {},
     "output_type": "display_data"
    },
    {
     "name": "stdout",
     "output_type": "stream",
     "text": [
      "👥 Workload split across the three human teammates:\n"
     ]
    },
    {
     "data": {
      "text/html": [
       "<div>\n",
       "<style scoped>\n",
       "    .dataframe tbody tr th:only-of-type {\n",
       "        vertical-align: middle;\n",
       "    }\n",
       "\n",
       "    .dataframe tbody tr th {\n",
       "        vertical-align: top;\n",
       "    }\n",
       "\n",
       "    .dataframe thead th {\n",
       "        text-align: right;\n",
       "    }\n",
       "</style>\n",
       "<table border=\"1\" class=\"dataframe\">\n",
       "  <thead>\n",
       "    <tr style=\"text-align: right;\">\n",
       "      <th></th>\n",
       "      <th>owner</th>\n",
       "      <th>tasks</th>\n",
       "      <th>patients</th>\n",
       "    </tr>\n",
       "  </thead>\n",
       "  <tbody>\n",
       "    <tr>\n",
       "      <th>0</th>\n",
       "      <td>Care Navigator</td>\n",
       "      <td>19</td>\n",
       "      <td>6</td>\n",
       "    </tr>\n",
       "    <tr>\n",
       "      <th>1</th>\n",
       "      <td>Clinical Nurse Lead</td>\n",
       "      <td>13</td>\n",
       "      <td>6</td>\n",
       "    </tr>\n",
       "    <tr>\n",
       "      <th>2</th>\n",
       "      <td>Clinical Pharmacist</td>\n",
       "      <td>12</td>\n",
       "      <td>6</td>\n",
       "    </tr>\n",
       "  </tbody>\n",
       "</table>\n",
       "</div>"
      ],
      "text/plain": [
       "                 owner  tasks  patients\n",
       "0       Care Navigator     19         6\n",
       "1  Clinical Nurse Lead     13         6\n",
       "2  Clinical Pharmacist     12         6"
      ]
     },
     "metadata": {},
     "output_type": "display_data"
    }
   ],
   "source": [
    "# Build the daily standup queue for the three-person pod\n",
    "priority_map = {'Critical': 3, 'High': 2, 'Medium': 1, 'Low': 0}\n",
    "high_risk = cohort[cohort['risk_score'].isin(['High', 'Critical'])].copy()\n",
    "high_risk['priority'] = high_risk['risk_score'].map(priority_map)\n",
    "\n",
    "# Focus on the six patients who need the tightest coordination today\n",
    "focus_patients = (high_risk\n",
    "                  .sort_values(['priority', 'a1c_latest', 'last_visit_days_ago'], ascending=[False, False, False])\n",
    "                  .head(6))\n",
    "\n",
    "assignment_rows = []\n",
    "action_log = []\n",
    "for _, patient in focus_patients.iterrows():\n",
    "    plan = orchestrator.analyze_patient_with_agents(patient)\n",
    "    agent_outputs = plan['agent_outputs']\n",
    "    risk_output = agent_outputs[orchestrator.agent_labels['risk']]\n",
    "    care_actions = agent_outputs[orchestrator.agent_labels['care']]['actions']\n",
    "    benefit_actions = agent_outputs[orchestrator.agent_labels['benefits']]['actions']\n",
    "    engagement_actions = agent_outputs[orchestrator.agent_labels['engagement']]['actions']\n",
    "    assignment_rows.append({\n",
    "        'patient_id': patient['patient_id'],\n",
    "        'risk_level': patient['risk_score'],\n",
    "        'risk_summary': risk_output['summary'],\n",
    "        'clinical_nurse_lead_focus': care_actions[0]['title'] if care_actions else 'Monitor for escalation',\n",
    "        'care_navigator_focus': benefit_actions[0]['title'] if benefit_actions else 'Coverage verified',\n",
    "        'clinical_pharmacist_focus': engagement_actions[0]['title'] if engagement_actions else 'Adherence on track',\n",
    "        'next_touch_in_days': 7 if patient['risk_score'] == 'Critical' else 14\n",
    "    })\n",
    "    for output in agent_outputs.values():\n",
    "        for action in output['actions']:\n",
    "            action_log.append({'owner': action['owner'], 'patient_id': patient['patient_id'], 'action': action['title']})\n",
    "\n",
    "standup_view = pd.DataFrame(assignment_rows)\n",
    "print(\"🗂️ Daily standup queue (6 highest priority patients):\")\n",
    "display(standup_view)\n",
    "\n",
    "action_df = pd.DataFrame(action_log)\n",
    "if action_df.empty:\n",
    "    action_summary = pd.DataFrame([{'owner': role, 'tasks': 0, 'patients': 0} for role in ['Clinical Nurse Lead', 'Care Navigator', 'Clinical Pharmacist']])\n",
    "else:\n",
    "    action_summary = (action_df\n",
    "                      .groupby('owner')\n",
    "                      .agg(tasks=('action', 'count'), patients=('patient_id', 'nunique'))\n",
    "                      .reset_index())\n",
    "print(\"👥 Workload split across the three human teammates:\")\n",
    "display(action_summary)"
   ]
  },
  {
   "cell_type": "code",
   "execution_count": 32,
   "id": "dbe9b798",
   "metadata": {
    "id": "dbe9b798",
    "outputId": "8946a488-0ba0-4826-e7e8-7735e49691d6"
   },
   "outputs": [
    {
     "name": "stdout",
     "output_type": "stream",
     "text": [
      "Now let's build a Patient Journey Orchestrator that shows how a healthcare organization can revolutionize care coordination with a tiny team.\n"
     ]
    }
   ],
   "source": [
    "print(\"Now let's build a Patient Journey Orchestrator that shows how a healthcare organization can revolutionize care coordination with a tiny team.\")"
   ]
  },
  {
   "cell_type": "markdown",
   "id": "8ef204a0",
   "metadata": {
    "id": "8ef204a0"
   },
   "source": [
    "### **Act 3: The learning system** (show real improvement over iterations)"
   ]
  },
  {
   "cell_type": "markdown",
   "id": "7MSeFsuI_3Jn",
   "metadata": {
    "id": "7MSeFsuI_3Jn"
   },
   "source": [
    "**This section must show the feedback loops visually**: Not just code, but system behavior."
   ]
  },
  {
   "cell_type": "markdown",
   "id": "3e32da3e",
   "metadata": {},
   "source": [
    "**Learning instrumentation**\n",
    "\n",
    "We pipe the orchestration telemetry into a monthly scorecard so stakeholders see readmissions, care-gap closure, automation coverage, and human workload trending in the right direction.\n",
    "\n"
   ]
  },
  {
   "cell_type": "code",
   "execution_count": 30,
   "id": "066a6012",
   "metadata": {},
   "outputs": [
    {
     "name": "stdout",
     "output_type": "stream",
     "text": [
      "📊 Monthly learning telemetry:\n"
     ]
    },
    {
     "data": {
      "text/html": [
       "<div>\n",
       "<style scoped>\n",
       "    .dataframe tbody tr th:only-of-type {\n",
       "        vertical-align: middle;\n",
       "    }\n",
       "\n",
       "    .dataframe tbody tr th {\n",
       "        vertical-align: top;\n",
       "    }\n",
       "\n",
       "    .dataframe thead th {\n",
       "        text-align: right;\n",
       "    }\n",
       "</style>\n",
       "<table border=\"1\" class=\"dataframe\">\n",
       "  <thead>\n",
       "    <tr style=\"text-align: right;\">\n",
       "      <th></th>\n",
       "      <th>Month</th>\n",
       "      <th>Readmission Rate (%)</th>\n",
       "      <th>Care Gaps Closed (%)</th>\n",
       "      <th>Automation Coverage (%)</th>\n",
       "      <th>Touches per Nurse</th>\n",
       "    </tr>\n",
       "  </thead>\n",
       "  <tbody>\n",
       "    <tr>\n",
       "      <th>0</th>\n",
       "      <td>1</td>\n",
       "      <td>16.53</td>\n",
       "      <td>22.0</td>\n",
       "      <td>38.0</td>\n",
       "      <td>18.0</td>\n",
       "    </tr>\n",
       "    <tr>\n",
       "      <th>1</th>\n",
       "      <td>2</td>\n",
       "      <td>14.99</td>\n",
       "      <td>28.0</td>\n",
       "      <td>41.5</td>\n",
       "      <td>16.9</td>\n",
       "    </tr>\n",
       "    <tr>\n",
       "      <th>2</th>\n",
       "      <td>3</td>\n",
       "      <td>13.38</td>\n",
       "      <td>34.0</td>\n",
       "      <td>44.9</td>\n",
       "      <td>15.8</td>\n",
       "    </tr>\n",
       "    <tr>\n",
       "      <th>3</th>\n",
       "      <td>4</td>\n",
       "      <td>11.70</td>\n",
       "      <td>40.0</td>\n",
       "      <td>48.4</td>\n",
       "      <td>14.7</td>\n",
       "    </tr>\n",
       "    <tr>\n",
       "      <th>4</th>\n",
       "      <td>5</td>\n",
       "      <td>9.95</td>\n",
       "      <td>46.0</td>\n",
       "      <td>51.8</td>\n",
       "      <td>13.6</td>\n",
       "    </tr>\n",
       "    <tr>\n",
       "      <th>5</th>\n",
       "      <td>6</td>\n",
       "      <td>8.13</td>\n",
       "      <td>52.0</td>\n",
       "      <td>55.3</td>\n",
       "      <td>12.5</td>\n",
       "    </tr>\n",
       "  </tbody>\n",
       "</table>\n",
       "</div>"
      ],
      "text/plain": [
       "   Month  Readmission Rate (%)  Care Gaps Closed (%)  Automation Coverage (%)  \\\n",
       "0      1                 16.53                  22.0                     38.0   \n",
       "1      2                 14.99                  28.0                     41.5   \n",
       "2      3                 13.38                  34.0                     44.9   \n",
       "3      4                 11.70                  40.0                     48.4   \n",
       "4      5                  9.95                  46.0                     51.8   \n",
       "5      6                  8.13                  52.0                     55.3   \n",
       "\n",
       "   Touches per Nurse  \n",
       "0               18.0  \n",
       "1               16.9  \n",
       "2               15.8  \n",
       "3               14.7  \n",
       "4               13.6  \n",
       "5               12.5  "
      ]
     },
     "metadata": {},
     "output_type": "display_data"
    },
    {
     "name": "stdout",
     "output_type": "stream",
     "text": [
      "🏁 Month 12 snapshot:\n",
      "- Readmission rate: 7.5% (▼ 10.5 pts vs baseline)\n",
      "- Care gaps closed: 88.0%\n",
      "- Automation coverage: 76.0% of population workflows\n",
      "- Touches per nurse: 6.0 (down from 18.0)\n",
      "🚀 Milestones tracked in the learning review:\n",
      "- Month 1: Stand up analytics + first automation loops\n",
      "- Month 4: Benefits navigator automations cut copay escalations by 35%\n",
      "- Month 8: Behavioral engagement workflows bring adherence above 80%\n",
      "- Month 12: Closed-loop orchestration hits 10% readmission goal\n"
     ]
    }
   ],
   "source": [
    "# Construct a telemetry table that powers the Act 3 story\n",
    "months = results['time_points']\n",
    "readmit = results['readmission_rates']\n",
    "care_gap_closure = np.linspace(22, 88, len(months))\n",
    "automation_coverage = np.linspace(38, 76, len(months))\n",
    "touches_per_nurse = np.linspace(18, 6, len(months))\n",
    "\n",
    "learning_df = pd.DataFrame({\n",
    "    'Month': months,\n",
    "    'Readmission Rate (%)': [round(val, 2) for val in readmit],\n",
    "    'Care Gaps Closed (%)': [round(val, 1) for val in care_gap_closure],\n",
    "    'Automation Coverage (%)': [round(val, 1) for val in automation_coverage],\n",
    "    'Touches per Nurse': [round(val, 1) for val in touches_per_nurse]\n",
    "})\n",
    "\n",
    "print(\"📊 Monthly learning telemetry:\")\n",
    "display(learning_df.head(6))\n",
    "\n",
    "latest = learning_df.iloc[-1]\n",
    "print(\"🏁 Month 12 snapshot:\")\n",
    "print(f\"- Readmission rate: {latest['Readmission Rate (%)']:.1f}% (▼ {18 - latest['Readmission Rate (%)']:.1f} pts vs baseline)\")\n",
    "print(f\"- Care gaps closed: {latest['Care Gaps Closed (%)']:.1f}%\")\n",
    "print(f\"- Automation coverage: {latest['Automation Coverage (%)']:.1f}% of population workflows\")\n",
    "print(f\"- Touches per nurse: {latest['Touches per Nurse']:.1f} (down from {touches_per_nurse[0]:.1f})\")\n",
    "\n",
    "milestones = [\n",
    "    \"Month 1: Stand up analytics + first automation loops\",\n",
    "    \"Month 4: Benefits navigator automations cut copay escalations by 35%\",\n",
    "    \"Month 8: Behavioral engagement workflows bring adherence above 80%\",\n",
    "    \"Month 12: Closed-loop orchestration hits 10% readmission goal\"\n",
    "]\n",
    "print(\"🚀 Milestones tracked in the learning review:\")\n",
    "for item in milestones:\n",
    "    print(f\"- {item}\")"
   ]
  },
  {
   "cell_type": "markdown",
   "id": "b28e218c",
   "metadata": {
    "id": "b28e218c"
   },
   "source": [
    "### 🎯 Summary: Healthcare AI Orchestration Demo\n",
    "\n",
    "**What This Demo Shows:**\n",
    "1. **Smart Agent Usage**: Use simple functions for basic tasks, multi-agent orchestration for complex workflows\n",
    "2. **Real Healthcare Impact**: 3-person team + AI agents = work of 30-person department  \n",
    "3. **Continuous Learning**: System improves outcomes through feedback loops\n",
    "4. **Practical Implementation**: Mock data shows how real healthcare datasets would work\n",
    "\n",
    "**Next Steps for Production:**\n",
    "- Replace mock data with real healthcare datasets (Synthea, CMS, etc.)\n",
    "- Integrate with actual EMR systems\n",
    "- Add real-time monitoring and alerts  \n",
    "- Implement HIPAA-compliant data handling\n",
    "- Scale orchestration across health systems\n",
    "\n",
    "**Key Insight:**\n",
    "The productive tension between cost reduction and quality improvement creates better patient outcomes through intelligent agent coordination.\n",
    "\n",
    "---\n",
    "*This notebook demonstrates the future of healthcare: Small teams leveraging AI to deliver personalized, population-scale care management.*"
   ]
  },
  {
   "cell_type": "markdown",
   "id": "23950541",
   "metadata": {
    "id": "23950541"
   },
   "source": []
  }
 ],
 "metadata": {
  "colab": {
   "provenance": []
  },
  "kernelspec": {
   "display_name": "312",
   "language": "python",
   "name": "python3"
  },
  "language_info": {
   "codemirror_mode": {
    "name": "ipython",
    "version": 3
   },
   "file_extension": ".py",
   "mimetype": "text/x-python",
   "name": "python",
   "nbconvert_exporter": "python",
   "pygments_lexer": "ipython3",
   "version": "3.12.11"
  }
 },
 "nbformat": 4,
 "nbformat_minor": 5
}
